{
 "cells": [
  {
   "cell_type": "markdown",
   "metadata": {},
   "source": [
    "# Proyecto Sprint 9 - Aprendizaje supervisado\n",
    "***\n",
    "Los clientes de **Beta Bank** se están yendo, cada mes, poco a poco. Los banqueros descubrieron que es más barato salvar a los clientes existentes que atraer nuevos.\n",
    "\n",
    "Necesitamos predecir si un cliente dejará el banco pronto. Tú tienes los datos sobre el comportamiento pasado de los clientes y la terminación de contratos con el banco.\n",
    "\n",
    "Crea un modelo con el máximo valor F1 posible. Para aprobar la revisión, necesitas un valor **F1** de al menos **0.59**. Verifica F1 para el conjunto de prueba. \n",
    "\n",
    "Además, debes medir la métrica **AUC-ROC** y compararla con el valor **F1**."
   ]
  },
  {
   "cell_type": "markdown",
   "metadata": {},
   "source": [
    "## Instrucciones del proyecto\n",
    "***\n",
    "Para este proyecto estaremos trabajando con los siguientes puntos:\n",
    "\n",
    "1. Descarga y prepara los datos.  Explica el procedimiento.\n",
    "\n",
    "2. Examina el equilibrio de clases. Entrena el modelo sin tener en cuenta el desequilibrio. Describe brevemente tus hallazgos.\n",
    "\n",
    "3. Mejora la calidad del modelo. Asegúrate de utilizar al menos dos enfoques para corregir el desequilibrio de clases. Utiliza conjuntos de entrenamiento y validación para encontrar el mejor modelo y el mejor conjunto de parámetros. Entrena diferentes modelos en los conjuntos de entrenamiento y validación. Encuentra el mejor. Describe brevemente tus hallazgos.\n",
    "\n",
    "4. Realiza la prueba final."
   ]
  },
  {
   "cell_type": "markdown",
   "metadata": {},
   "source": [
    "## Importar bibliotecas\n",
    "***"
   ]
  },
  {
   "cell_type": "code",
   "execution_count": 1,
   "metadata": {},
   "outputs": [],
   "source": [
    "# Importar bibliotecas\n",
    "import pandas as pd \n",
    "from sklearn.model_selection import train_test_split\n",
    "from sklearn.tree import DecisionTreeClassifier\n",
    "from sklearn.linear_model import LogisticRegression\n",
    "from sklearn.ensemble import RandomForestClassifier\n",
    "from sklearn.metrics import accuracy_score\n",
    "from sklearn.preprocessing import StandardScaler\n",
    "from sklearn.model_selection import RandomizedSearchCV\n",
    "from sklearn.metrics import f1_score\n",
    "from sklearn.utils import shuffle\n",
    "from sklearn.metrics import roc_curve\n",
    "from sklearn.metrics import roc_auc_score\n",
    "import matplotlib.pyplot as plt"
   ]
  },
  {
   "cell_type": "markdown",
   "metadata": {},
   "source": [
    "## Preprocesamiento de datos y EDA\n",
    "***\n",
    "\n",
    "En esta primera parte del proyecto, revisaré el DataFrame con el objetivo de encontrar problemas e inconsistencias en los datos.\n"
   ]
  },
  {
   "cell_type": "code",
   "execution_count": 2,
   "metadata": {},
   "outputs": [],
   "source": [
    "# Cargar archivo\n",
    "df = pd.read_csv('/datasets/Churn.csv') "
   ]
  },
  {
   "cell_type": "code",
   "execution_count": 3,
   "metadata": {
    "scrolled": false
   },
   "outputs": [
    {
     "data": {
      "text/html": [
       "<div>\n",
       "<style scoped>\n",
       "    .dataframe tbody tr th:only-of-type {\n",
       "        vertical-align: middle;\n",
       "    }\n",
       "\n",
       "    .dataframe tbody tr th {\n",
       "        vertical-align: top;\n",
       "    }\n",
       "\n",
       "    .dataframe thead th {\n",
       "        text-align: right;\n",
       "    }\n",
       "</style>\n",
       "<table border=\"1\" class=\"dataframe\">\n",
       "  <thead>\n",
       "    <tr style=\"text-align: right;\">\n",
       "      <th></th>\n",
       "      <th>RowNumber</th>\n",
       "      <th>CustomerId</th>\n",
       "      <th>Surname</th>\n",
       "      <th>CreditScore</th>\n",
       "      <th>Geography</th>\n",
       "      <th>Gender</th>\n",
       "      <th>Age</th>\n",
       "      <th>Tenure</th>\n",
       "      <th>Balance</th>\n",
       "      <th>NumOfProducts</th>\n",
       "      <th>HasCrCard</th>\n",
       "      <th>IsActiveMember</th>\n",
       "      <th>EstimatedSalary</th>\n",
       "      <th>Exited</th>\n",
       "    </tr>\n",
       "  </thead>\n",
       "  <tbody>\n",
       "    <tr>\n",
       "      <th>0</th>\n",
       "      <td>1</td>\n",
       "      <td>15634602</td>\n",
       "      <td>Hargrave</td>\n",
       "      <td>619</td>\n",
       "      <td>France</td>\n",
       "      <td>Female</td>\n",
       "      <td>42</td>\n",
       "      <td>2.0</td>\n",
       "      <td>0.00</td>\n",
       "      <td>1</td>\n",
       "      <td>1</td>\n",
       "      <td>1</td>\n",
       "      <td>101348.88</td>\n",
       "      <td>1</td>\n",
       "    </tr>\n",
       "    <tr>\n",
       "      <th>1</th>\n",
       "      <td>2</td>\n",
       "      <td>15647311</td>\n",
       "      <td>Hill</td>\n",
       "      <td>608</td>\n",
       "      <td>Spain</td>\n",
       "      <td>Female</td>\n",
       "      <td>41</td>\n",
       "      <td>1.0</td>\n",
       "      <td>83807.86</td>\n",
       "      <td>1</td>\n",
       "      <td>0</td>\n",
       "      <td>1</td>\n",
       "      <td>112542.58</td>\n",
       "      <td>0</td>\n",
       "    </tr>\n",
       "    <tr>\n",
       "      <th>2</th>\n",
       "      <td>3</td>\n",
       "      <td>15619304</td>\n",
       "      <td>Onio</td>\n",
       "      <td>502</td>\n",
       "      <td>France</td>\n",
       "      <td>Female</td>\n",
       "      <td>42</td>\n",
       "      <td>8.0</td>\n",
       "      <td>159660.80</td>\n",
       "      <td>3</td>\n",
       "      <td>1</td>\n",
       "      <td>0</td>\n",
       "      <td>113931.57</td>\n",
       "      <td>1</td>\n",
       "    </tr>\n",
       "    <tr>\n",
       "      <th>3</th>\n",
       "      <td>4</td>\n",
       "      <td>15701354</td>\n",
       "      <td>Boni</td>\n",
       "      <td>699</td>\n",
       "      <td>France</td>\n",
       "      <td>Female</td>\n",
       "      <td>39</td>\n",
       "      <td>1.0</td>\n",
       "      <td>0.00</td>\n",
       "      <td>2</td>\n",
       "      <td>0</td>\n",
       "      <td>0</td>\n",
       "      <td>93826.63</td>\n",
       "      <td>0</td>\n",
       "    </tr>\n",
       "    <tr>\n",
       "      <th>4</th>\n",
       "      <td>5</td>\n",
       "      <td>15737888</td>\n",
       "      <td>Mitchell</td>\n",
       "      <td>850</td>\n",
       "      <td>Spain</td>\n",
       "      <td>Female</td>\n",
       "      <td>43</td>\n",
       "      <td>2.0</td>\n",
       "      <td>125510.82</td>\n",
       "      <td>1</td>\n",
       "      <td>1</td>\n",
       "      <td>1</td>\n",
       "      <td>79084.10</td>\n",
       "      <td>0</td>\n",
       "    </tr>\n",
       "    <tr>\n",
       "      <th>5</th>\n",
       "      <td>6</td>\n",
       "      <td>15574012</td>\n",
       "      <td>Chu</td>\n",
       "      <td>645</td>\n",
       "      <td>Spain</td>\n",
       "      <td>Male</td>\n",
       "      <td>44</td>\n",
       "      <td>8.0</td>\n",
       "      <td>113755.78</td>\n",
       "      <td>2</td>\n",
       "      <td>1</td>\n",
       "      <td>0</td>\n",
       "      <td>149756.71</td>\n",
       "      <td>1</td>\n",
       "    </tr>\n",
       "    <tr>\n",
       "      <th>6</th>\n",
       "      <td>7</td>\n",
       "      <td>15592531</td>\n",
       "      <td>Bartlett</td>\n",
       "      <td>822</td>\n",
       "      <td>France</td>\n",
       "      <td>Male</td>\n",
       "      <td>50</td>\n",
       "      <td>7.0</td>\n",
       "      <td>0.00</td>\n",
       "      <td>2</td>\n",
       "      <td>1</td>\n",
       "      <td>1</td>\n",
       "      <td>10062.80</td>\n",
       "      <td>0</td>\n",
       "    </tr>\n",
       "    <tr>\n",
       "      <th>7</th>\n",
       "      <td>8</td>\n",
       "      <td>15656148</td>\n",
       "      <td>Obinna</td>\n",
       "      <td>376</td>\n",
       "      <td>Germany</td>\n",
       "      <td>Female</td>\n",
       "      <td>29</td>\n",
       "      <td>4.0</td>\n",
       "      <td>115046.74</td>\n",
       "      <td>4</td>\n",
       "      <td>1</td>\n",
       "      <td>0</td>\n",
       "      <td>119346.88</td>\n",
       "      <td>1</td>\n",
       "    </tr>\n",
       "    <tr>\n",
       "      <th>8</th>\n",
       "      <td>9</td>\n",
       "      <td>15792365</td>\n",
       "      <td>He</td>\n",
       "      <td>501</td>\n",
       "      <td>France</td>\n",
       "      <td>Male</td>\n",
       "      <td>44</td>\n",
       "      <td>4.0</td>\n",
       "      <td>142051.07</td>\n",
       "      <td>2</td>\n",
       "      <td>0</td>\n",
       "      <td>1</td>\n",
       "      <td>74940.50</td>\n",
       "      <td>0</td>\n",
       "    </tr>\n",
       "    <tr>\n",
       "      <th>9</th>\n",
       "      <td>10</td>\n",
       "      <td>15592389</td>\n",
       "      <td>H?</td>\n",
       "      <td>684</td>\n",
       "      <td>France</td>\n",
       "      <td>Male</td>\n",
       "      <td>27</td>\n",
       "      <td>2.0</td>\n",
       "      <td>134603.88</td>\n",
       "      <td>1</td>\n",
       "      <td>1</td>\n",
       "      <td>1</td>\n",
       "      <td>71725.73</td>\n",
       "      <td>0</td>\n",
       "    </tr>\n",
       "  </tbody>\n",
       "</table>\n",
       "</div>"
      ],
      "text/plain": [
       "   RowNumber  CustomerId   Surname  CreditScore Geography  Gender  Age  \\\n",
       "0          1    15634602  Hargrave          619    France  Female   42   \n",
       "1          2    15647311      Hill          608     Spain  Female   41   \n",
       "2          3    15619304      Onio          502    France  Female   42   \n",
       "3          4    15701354      Boni          699    France  Female   39   \n",
       "4          5    15737888  Mitchell          850     Spain  Female   43   \n",
       "5          6    15574012       Chu          645     Spain    Male   44   \n",
       "6          7    15592531  Bartlett          822    France    Male   50   \n",
       "7          8    15656148    Obinna          376   Germany  Female   29   \n",
       "8          9    15792365        He          501    France    Male   44   \n",
       "9         10    15592389        H?          684    France    Male   27   \n",
       "\n",
       "   Tenure    Balance  NumOfProducts  HasCrCard  IsActiveMember  \\\n",
       "0     2.0       0.00              1          1               1   \n",
       "1     1.0   83807.86              1          0               1   \n",
       "2     8.0  159660.80              3          1               0   \n",
       "3     1.0       0.00              2          0               0   \n",
       "4     2.0  125510.82              1          1               1   \n",
       "5     8.0  113755.78              2          1               0   \n",
       "6     7.0       0.00              2          1               1   \n",
       "7     4.0  115046.74              4          1               0   \n",
       "8     4.0  142051.07              2          0               1   \n",
       "9     2.0  134603.88              1          1               1   \n",
       "\n",
       "   EstimatedSalary  Exited  \n",
       "0        101348.88       1  \n",
       "1        112542.58       0  \n",
       "2        113931.57       1  \n",
       "3         93826.63       0  \n",
       "4         79084.10       0  \n",
       "5        149756.71       1  \n",
       "6         10062.80       0  \n",
       "7        119346.88       1  \n",
       "8         74940.50       0  \n",
       "9         71725.73       0  "
      ]
     },
     "execution_count": 3,
     "metadata": {},
     "output_type": "execute_result"
    }
   ],
   "source": [
    "df.head(10)"
   ]
  },
  {
   "cell_type": "code",
   "execution_count": 4,
   "metadata": {
    "scrolled": true
   },
   "outputs": [
    {
     "name": "stdout",
     "output_type": "stream",
     "text": [
      "(10000, 14)\n"
     ]
    },
    {
     "data": {
      "text/plain": [
       "RowNumber            int64\n",
       "CustomerId           int64\n",
       "Surname             object\n",
       "CreditScore          int64\n",
       "Geography           object\n",
       "Gender              object\n",
       "Age                  int64\n",
       "Tenure             float64\n",
       "Balance            float64\n",
       "NumOfProducts        int64\n",
       "HasCrCard            int64\n",
       "IsActiveMember       int64\n",
       "EstimatedSalary    float64\n",
       "Exited               int64\n",
       "dtype: object"
      ]
     },
     "execution_count": 4,
     "metadata": {},
     "output_type": "execute_result"
    }
   ],
   "source": [
    "print(df.shape)\n",
    "df.dtypes"
   ]
  },
  {
   "cell_type": "code",
   "execution_count": 5,
   "metadata": {
    "scrolled": false
   },
   "outputs": [
    {
     "data": {
      "text/html": [
       "<div>\n",
       "<style scoped>\n",
       "    .dataframe tbody tr th:only-of-type {\n",
       "        vertical-align: middle;\n",
       "    }\n",
       "\n",
       "    .dataframe tbody tr th {\n",
       "        vertical-align: top;\n",
       "    }\n",
       "\n",
       "    .dataframe thead th {\n",
       "        text-align: right;\n",
       "    }\n",
       "</style>\n",
       "<table border=\"1\" class=\"dataframe\">\n",
       "  <thead>\n",
       "    <tr style=\"text-align: right;\">\n",
       "      <th></th>\n",
       "      <th>RowNumber</th>\n",
       "      <th>CustomerId</th>\n",
       "      <th>CreditScore</th>\n",
       "      <th>Age</th>\n",
       "      <th>Tenure</th>\n",
       "      <th>Balance</th>\n",
       "      <th>NumOfProducts</th>\n",
       "      <th>HasCrCard</th>\n",
       "      <th>IsActiveMember</th>\n",
       "      <th>EstimatedSalary</th>\n",
       "      <th>Exited</th>\n",
       "    </tr>\n",
       "  </thead>\n",
       "  <tbody>\n",
       "    <tr>\n",
       "      <th>count</th>\n",
       "      <td>10000.00000</td>\n",
       "      <td>1.000000e+04</td>\n",
       "      <td>10000.000000</td>\n",
       "      <td>10000.000000</td>\n",
       "      <td>9091.000000</td>\n",
       "      <td>10000.000000</td>\n",
       "      <td>10000.000000</td>\n",
       "      <td>10000.00000</td>\n",
       "      <td>10000.000000</td>\n",
       "      <td>10000.000000</td>\n",
       "      <td>10000.000000</td>\n",
       "    </tr>\n",
       "    <tr>\n",
       "      <th>mean</th>\n",
       "      <td>5000.50000</td>\n",
       "      <td>1.569094e+07</td>\n",
       "      <td>650.528800</td>\n",
       "      <td>38.921800</td>\n",
       "      <td>4.997690</td>\n",
       "      <td>76485.889288</td>\n",
       "      <td>1.530200</td>\n",
       "      <td>0.70550</td>\n",
       "      <td>0.515100</td>\n",
       "      <td>100090.239881</td>\n",
       "      <td>0.203700</td>\n",
       "    </tr>\n",
       "    <tr>\n",
       "      <th>std</th>\n",
       "      <td>2886.89568</td>\n",
       "      <td>7.193619e+04</td>\n",
       "      <td>96.653299</td>\n",
       "      <td>10.487806</td>\n",
       "      <td>2.894723</td>\n",
       "      <td>62397.405202</td>\n",
       "      <td>0.581654</td>\n",
       "      <td>0.45584</td>\n",
       "      <td>0.499797</td>\n",
       "      <td>57510.492818</td>\n",
       "      <td>0.402769</td>\n",
       "    </tr>\n",
       "    <tr>\n",
       "      <th>min</th>\n",
       "      <td>1.00000</td>\n",
       "      <td>1.556570e+07</td>\n",
       "      <td>350.000000</td>\n",
       "      <td>18.000000</td>\n",
       "      <td>0.000000</td>\n",
       "      <td>0.000000</td>\n",
       "      <td>1.000000</td>\n",
       "      <td>0.00000</td>\n",
       "      <td>0.000000</td>\n",
       "      <td>11.580000</td>\n",
       "      <td>0.000000</td>\n",
       "    </tr>\n",
       "    <tr>\n",
       "      <th>25%</th>\n",
       "      <td>2500.75000</td>\n",
       "      <td>1.562853e+07</td>\n",
       "      <td>584.000000</td>\n",
       "      <td>32.000000</td>\n",
       "      <td>2.000000</td>\n",
       "      <td>0.000000</td>\n",
       "      <td>1.000000</td>\n",
       "      <td>0.00000</td>\n",
       "      <td>0.000000</td>\n",
       "      <td>51002.110000</td>\n",
       "      <td>0.000000</td>\n",
       "    </tr>\n",
       "    <tr>\n",
       "      <th>50%</th>\n",
       "      <td>5000.50000</td>\n",
       "      <td>1.569074e+07</td>\n",
       "      <td>652.000000</td>\n",
       "      <td>37.000000</td>\n",
       "      <td>5.000000</td>\n",
       "      <td>97198.540000</td>\n",
       "      <td>1.000000</td>\n",
       "      <td>1.00000</td>\n",
       "      <td>1.000000</td>\n",
       "      <td>100193.915000</td>\n",
       "      <td>0.000000</td>\n",
       "    </tr>\n",
       "    <tr>\n",
       "      <th>75%</th>\n",
       "      <td>7500.25000</td>\n",
       "      <td>1.575323e+07</td>\n",
       "      <td>718.000000</td>\n",
       "      <td>44.000000</td>\n",
       "      <td>7.000000</td>\n",
       "      <td>127644.240000</td>\n",
       "      <td>2.000000</td>\n",
       "      <td>1.00000</td>\n",
       "      <td>1.000000</td>\n",
       "      <td>149388.247500</td>\n",
       "      <td>0.000000</td>\n",
       "    </tr>\n",
       "    <tr>\n",
       "      <th>max</th>\n",
       "      <td>10000.00000</td>\n",
       "      <td>1.581569e+07</td>\n",
       "      <td>850.000000</td>\n",
       "      <td>92.000000</td>\n",
       "      <td>10.000000</td>\n",
       "      <td>250898.090000</td>\n",
       "      <td>4.000000</td>\n",
       "      <td>1.00000</td>\n",
       "      <td>1.000000</td>\n",
       "      <td>199992.480000</td>\n",
       "      <td>1.000000</td>\n",
       "    </tr>\n",
       "  </tbody>\n",
       "</table>\n",
       "</div>"
      ],
      "text/plain": [
       "         RowNumber    CustomerId   CreditScore           Age       Tenure  \\\n",
       "count  10000.00000  1.000000e+04  10000.000000  10000.000000  9091.000000   \n",
       "mean    5000.50000  1.569094e+07    650.528800     38.921800     4.997690   \n",
       "std     2886.89568  7.193619e+04     96.653299     10.487806     2.894723   \n",
       "min        1.00000  1.556570e+07    350.000000     18.000000     0.000000   \n",
       "25%     2500.75000  1.562853e+07    584.000000     32.000000     2.000000   \n",
       "50%     5000.50000  1.569074e+07    652.000000     37.000000     5.000000   \n",
       "75%     7500.25000  1.575323e+07    718.000000     44.000000     7.000000   \n",
       "max    10000.00000  1.581569e+07    850.000000     92.000000    10.000000   \n",
       "\n",
       "             Balance  NumOfProducts    HasCrCard  IsActiveMember  \\\n",
       "count   10000.000000   10000.000000  10000.00000    10000.000000   \n",
       "mean    76485.889288       1.530200      0.70550        0.515100   \n",
       "std     62397.405202       0.581654      0.45584        0.499797   \n",
       "min         0.000000       1.000000      0.00000        0.000000   \n",
       "25%         0.000000       1.000000      0.00000        0.000000   \n",
       "50%     97198.540000       1.000000      1.00000        1.000000   \n",
       "75%    127644.240000       2.000000      1.00000        1.000000   \n",
       "max    250898.090000       4.000000      1.00000        1.000000   \n",
       "\n",
       "       EstimatedSalary        Exited  \n",
       "count     10000.000000  10000.000000  \n",
       "mean     100090.239881      0.203700  \n",
       "std       57510.492818      0.402769  \n",
       "min          11.580000      0.000000  \n",
       "25%       51002.110000      0.000000  \n",
       "50%      100193.915000      0.000000  \n",
       "75%      149388.247500      0.000000  \n",
       "max      199992.480000      1.000000  "
      ]
     },
     "execution_count": 5,
     "metadata": {},
     "output_type": "execute_result"
    }
   ],
   "source": [
    "df.describe()"
   ]
  },
  {
   "cell_type": "code",
   "execution_count": 6,
   "metadata": {
    "scrolled": true
   },
   "outputs": [
    {
     "name": "stdout",
     "output_type": "stream",
     "text": [
      "<class 'pandas.core.frame.DataFrame'>\n",
      "RangeIndex: 10000 entries, 0 to 9999\n",
      "Data columns (total 14 columns):\n",
      " #   Column           Non-Null Count  Dtype  \n",
      "---  ------           --------------  -----  \n",
      " 0   RowNumber        10000 non-null  int64  \n",
      " 1   CustomerId       10000 non-null  int64  \n",
      " 2   Surname          10000 non-null  object \n",
      " 3   CreditScore      10000 non-null  int64  \n",
      " 4   Geography        10000 non-null  object \n",
      " 5   Gender           10000 non-null  object \n",
      " 6   Age              10000 non-null  int64  \n",
      " 7   Tenure           9091 non-null   float64\n",
      " 8   Balance          10000 non-null  float64\n",
      " 9   NumOfProducts    10000 non-null  int64  \n",
      " 10  HasCrCard        10000 non-null  int64  \n",
      " 11  IsActiveMember   10000 non-null  int64  \n",
      " 12  EstimatedSalary  10000 non-null  float64\n",
      " 13  Exited           10000 non-null  int64  \n",
      "dtypes: float64(3), int64(8), object(3)\n",
      "memory usage: 1.1+ MB\n"
     ]
    }
   ],
   "source": [
    "df.info()"
   ]
  },
  {
   "cell_type": "markdown",
   "metadata": {},
   "source": [
    "### Descripción y observaciones del DataFrame"
   ]
  },
  {
   "cell_type": "markdown",
   "metadata": {},
   "source": [
    "Cada observación en el dataset contiene información del comportamiento sobre un cliente. La información dada es la siguiente:\n",
    "\n",
    "**Características:**\n",
    "\n",
    "<code style=\"background:grey;color:black\">RowNumber</code> : índice de cadena de datos\n",
    "<br>\n",
    "<code style=\"background:grey;color:black\">CustomerId</code> : identificador de cliente único\n",
    "<br>\n",
    "<code style=\"background:grey;color:black\">Surname</code> : apellido\n",
    "<br>\n",
    "<code style=\"background:grey;color:black\">CreditScore</code> : valor de crédito\n",
    "<br>\n",
    "<code style=\"background:grey;color:black\">Geography</code> : país de residencia\n",
    "<br>\n",
    "<code style=\"background:grey;color:black\">Gender</code> : sexo\n",
    "<br>\n",
    "<code style=\"background:grey;color:black\">Age</code> : edad\n",
    "<br>\n",
    "<code style=\"background:grey;color:black\">Tenure</code> : período durante el cual ha madurado el depósito a plazo fijo de un cliente (años)\n",
    "<br>\n",
    "<code style=\"background:grey;color:black\">Balance</code> : saldo de la cuenta\n",
    "<br>\n",
    "<code style=\"background:grey;color:black\">NumOfProducts</code> : número de productos bancarios utilizados por el cliente\n",
    "<br>\n",
    "<code style=\"background:grey;color:black\">HasCrCard</code> : el cliente tiene una tarjeta de crédito (1 - sí; 0 - no)\n",
    "<br>\n",
    "<code style=\"background:grey;color:black\">IsActiveMember</code> : actividad del cliente (1 - sí; 0 - no)\n",
    "<br>\n",
    "<code style=\"background:grey;color:black\">EstimatedSalary</code> : salario estimado\n",
    "\n",
    "**Objetivo**\n",
    "\n",
    "<br>\n",
    "<code style=\"background:grey;color:black\">Exited</code> : El cliente se ha ido (1 - sí; 0 - no)\n",
    "\n",
    "Hay un total de 10.000 observaciones.\n",
    "\n",
    "\n",
    "\n",
    "\n",
    "\n",
    "\n",
    "\n",
    "\n",
    "\n",
    "\n",
    "\n",
    "\n",
    "\n",
    "\n",
    "\n",
    "\n",
    "\n",
    "\n"
   ]
  },
  {
   "cell_type": "markdown",
   "metadata": {},
   "source": [
    "En el DataFrame hay tres inconvenientes que deben abordarse:\n",
    "\n",
    "1. En la columna <code style=\"background:grey;color:black\">Tenure</code> hay **9.091** que contiene datos, lo que significa que tenemos **909 valores NaN**\n",
    "2. Algunas de las columnas parecen proporcionar poca relevancia al planteamiento general del problema y serán filtradas. <code style=\"background:grey;color:black\">RowNumber</code>, <code style=\"background:grey;color:black\">CustomerId</code>, \n",
    "<code style=\"background:grey;color:black\">Surname</code>\n",
    "3. En las columnas <code style=\"background:grey;color:black\">Geography</code> y <code style=\"background:grey;color:black\">Gender</code> el Dtype es object que no es beneficioso para que nuestro modelo funcione. "
   ]
  },
  {
   "cell_type": "markdown",
   "metadata": {},
   "source": [
    "#### Convertir valores de NaN a valores medianos\n",
    "\n",
    "En la columna <code style=\"background:grey;color:black\">Tenure</code> hay algunos valores NaN que se sustituirán por los valores medianos."
   ]
  },
  {
   "cell_type": "code",
   "execution_count": 7,
   "metadata": {},
   "outputs": [
    {
     "name": "stdout",
     "output_type": "stream",
     "text": [
      "5.0\n"
     ]
    }
   ],
   "source": [
    "median = df['Tenure'].median()\n",
    "print(median)"
   ]
  },
  {
   "cell_type": "code",
   "execution_count": 8,
   "metadata": {
    "scrolled": true
   },
   "outputs": [],
   "source": [
    "df['Tenure'].fillna(median, inplace=True)"
   ]
  },
  {
   "cell_type": "markdown",
   "metadata": {},
   "source": [
    "#### Filtracion de columnas\n",
    "\n",
    "Como las columnas <code style=\"background:grey;color:black\">RowNumber</code>, <code style=\"background:grey;color:black\">CustomerId</code>,\n",
    "<code style=\"background:grey;color:black\">Gender</code> no son relevantes para el modelo. Eliminaré estas columnas del DataFrame."
   ]
  },
  {
   "cell_type": "code",
   "execution_count": 9,
   "metadata": {
    "scrolled": false
   },
   "outputs": [
    {
     "data": {
      "text/html": [
       "<div>\n",
       "<style scoped>\n",
       "    .dataframe tbody tr th:only-of-type {\n",
       "        vertical-align: middle;\n",
       "    }\n",
       "\n",
       "    .dataframe tbody tr th {\n",
       "        vertical-align: top;\n",
       "    }\n",
       "\n",
       "    .dataframe thead th {\n",
       "        text-align: right;\n",
       "    }\n",
       "</style>\n",
       "<table border=\"1\" class=\"dataframe\">\n",
       "  <thead>\n",
       "    <tr style=\"text-align: right;\">\n",
       "      <th></th>\n",
       "      <th>CreditScore</th>\n",
       "      <th>Geography</th>\n",
       "      <th>Gender</th>\n",
       "      <th>Age</th>\n",
       "      <th>Tenure</th>\n",
       "      <th>Balance</th>\n",
       "      <th>NumOfProducts</th>\n",
       "      <th>HasCrCard</th>\n",
       "      <th>IsActiveMember</th>\n",
       "      <th>EstimatedSalary</th>\n",
       "      <th>Exited</th>\n",
       "    </tr>\n",
       "  </thead>\n",
       "  <tbody>\n",
       "    <tr>\n",
       "      <th>0</th>\n",
       "      <td>619</td>\n",
       "      <td>France</td>\n",
       "      <td>Female</td>\n",
       "      <td>42</td>\n",
       "      <td>2.0</td>\n",
       "      <td>0.00</td>\n",
       "      <td>1</td>\n",
       "      <td>1</td>\n",
       "      <td>1</td>\n",
       "      <td>101348.88</td>\n",
       "      <td>1</td>\n",
       "    </tr>\n",
       "    <tr>\n",
       "      <th>1</th>\n",
       "      <td>608</td>\n",
       "      <td>Spain</td>\n",
       "      <td>Female</td>\n",
       "      <td>41</td>\n",
       "      <td>1.0</td>\n",
       "      <td>83807.86</td>\n",
       "      <td>1</td>\n",
       "      <td>0</td>\n",
       "      <td>1</td>\n",
       "      <td>112542.58</td>\n",
       "      <td>0</td>\n",
       "    </tr>\n",
       "    <tr>\n",
       "      <th>2</th>\n",
       "      <td>502</td>\n",
       "      <td>France</td>\n",
       "      <td>Female</td>\n",
       "      <td>42</td>\n",
       "      <td>8.0</td>\n",
       "      <td>159660.80</td>\n",
       "      <td>3</td>\n",
       "      <td>1</td>\n",
       "      <td>0</td>\n",
       "      <td>113931.57</td>\n",
       "      <td>1</td>\n",
       "    </tr>\n",
       "    <tr>\n",
       "      <th>3</th>\n",
       "      <td>699</td>\n",
       "      <td>France</td>\n",
       "      <td>Female</td>\n",
       "      <td>39</td>\n",
       "      <td>1.0</td>\n",
       "      <td>0.00</td>\n",
       "      <td>2</td>\n",
       "      <td>0</td>\n",
       "      <td>0</td>\n",
       "      <td>93826.63</td>\n",
       "      <td>0</td>\n",
       "    </tr>\n",
       "    <tr>\n",
       "      <th>4</th>\n",
       "      <td>850</td>\n",
       "      <td>Spain</td>\n",
       "      <td>Female</td>\n",
       "      <td>43</td>\n",
       "      <td>2.0</td>\n",
       "      <td>125510.82</td>\n",
       "      <td>1</td>\n",
       "      <td>1</td>\n",
       "      <td>1</td>\n",
       "      <td>79084.10</td>\n",
       "      <td>0</td>\n",
       "    </tr>\n",
       "  </tbody>\n",
       "</table>\n",
       "</div>"
      ],
      "text/plain": [
       "   CreditScore Geography  Gender  Age  Tenure    Balance  NumOfProducts  \\\n",
       "0          619    France  Female   42     2.0       0.00              1   \n",
       "1          608     Spain  Female   41     1.0   83807.86              1   \n",
       "2          502    France  Female   42     8.0  159660.80              3   \n",
       "3          699    France  Female   39     1.0       0.00              2   \n",
       "4          850     Spain  Female   43     2.0  125510.82              1   \n",
       "\n",
       "   HasCrCard  IsActiveMember  EstimatedSalary  Exited  \n",
       "0          1               1        101348.88       1  \n",
       "1          0               1        112542.58       0  \n",
       "2          1               0        113931.57       1  \n",
       "3          0               0         93826.63       0  \n",
       "4          1               1         79084.10       0  "
      ]
     },
     "execution_count": 9,
     "metadata": {},
     "output_type": "execute_result"
    }
   ],
   "source": [
    "not_used = ['RowNumber', 'CustomerId', 'Surname']\n",
    "\n",
    "df = df.drop(not_used, axis=1)\n",
    "df.head()"
   ]
  },
  {
   "cell_type": "markdown",
   "metadata": {},
   "source": [
    "#### Transformación de características categóricas en numéricas.\n",
    "\n",
    "Los valores en las columnas <code style=\"background:grey;color:black\">Geography</code> y <code style=\"background:grey;color:black\">Gender</code> son categóricos. Estos se convertirán a valores numéricos utilizando la función pd.get_dummies."
   ]
  },
  {
   "cell_type": "code",
   "execution_count": 10,
   "metadata": {},
   "outputs": [],
   "source": [
    "df_ohe = pd.get_dummies(df, drop_first=True)"
   ]
  },
  {
   "cell_type": "markdown",
   "metadata": {},
   "source": [
    "#### Observaciones"
   ]
  },
  {
   "cell_type": "code",
   "execution_count": 11,
   "metadata": {
    "scrolled": false
   },
   "outputs": [
    {
     "data": {
      "text/html": [
       "<div>\n",
       "<style scoped>\n",
       "    .dataframe tbody tr th:only-of-type {\n",
       "        vertical-align: middle;\n",
       "    }\n",
       "\n",
       "    .dataframe tbody tr th {\n",
       "        vertical-align: top;\n",
       "    }\n",
       "\n",
       "    .dataframe thead th {\n",
       "        text-align: right;\n",
       "    }\n",
       "</style>\n",
       "<table border=\"1\" class=\"dataframe\">\n",
       "  <thead>\n",
       "    <tr style=\"text-align: right;\">\n",
       "      <th></th>\n",
       "      <th>CreditScore</th>\n",
       "      <th>Age</th>\n",
       "      <th>Tenure</th>\n",
       "      <th>Balance</th>\n",
       "      <th>NumOfProducts</th>\n",
       "      <th>HasCrCard</th>\n",
       "      <th>IsActiveMember</th>\n",
       "      <th>EstimatedSalary</th>\n",
       "      <th>Exited</th>\n",
       "      <th>Geography_Germany</th>\n",
       "      <th>Geography_Spain</th>\n",
       "      <th>Gender_Male</th>\n",
       "    </tr>\n",
       "  </thead>\n",
       "  <tbody>\n",
       "    <tr>\n",
       "      <th>0</th>\n",
       "      <td>619</td>\n",
       "      <td>42</td>\n",
       "      <td>2.0</td>\n",
       "      <td>0.00</td>\n",
       "      <td>1</td>\n",
       "      <td>1</td>\n",
       "      <td>1</td>\n",
       "      <td>101348.88</td>\n",
       "      <td>1</td>\n",
       "      <td>0</td>\n",
       "      <td>0</td>\n",
       "      <td>0</td>\n",
       "    </tr>\n",
       "    <tr>\n",
       "      <th>1</th>\n",
       "      <td>608</td>\n",
       "      <td>41</td>\n",
       "      <td>1.0</td>\n",
       "      <td>83807.86</td>\n",
       "      <td>1</td>\n",
       "      <td>0</td>\n",
       "      <td>1</td>\n",
       "      <td>112542.58</td>\n",
       "      <td>0</td>\n",
       "      <td>0</td>\n",
       "      <td>1</td>\n",
       "      <td>0</td>\n",
       "    </tr>\n",
       "    <tr>\n",
       "      <th>2</th>\n",
       "      <td>502</td>\n",
       "      <td>42</td>\n",
       "      <td>8.0</td>\n",
       "      <td>159660.80</td>\n",
       "      <td>3</td>\n",
       "      <td>1</td>\n",
       "      <td>0</td>\n",
       "      <td>113931.57</td>\n",
       "      <td>1</td>\n",
       "      <td>0</td>\n",
       "      <td>0</td>\n",
       "      <td>0</td>\n",
       "    </tr>\n",
       "    <tr>\n",
       "      <th>3</th>\n",
       "      <td>699</td>\n",
       "      <td>39</td>\n",
       "      <td>1.0</td>\n",
       "      <td>0.00</td>\n",
       "      <td>2</td>\n",
       "      <td>0</td>\n",
       "      <td>0</td>\n",
       "      <td>93826.63</td>\n",
       "      <td>0</td>\n",
       "      <td>0</td>\n",
       "      <td>0</td>\n",
       "      <td>0</td>\n",
       "    </tr>\n",
       "    <tr>\n",
       "      <th>4</th>\n",
       "      <td>850</td>\n",
       "      <td>43</td>\n",
       "      <td>2.0</td>\n",
       "      <td>125510.82</td>\n",
       "      <td>1</td>\n",
       "      <td>1</td>\n",
       "      <td>1</td>\n",
       "      <td>79084.10</td>\n",
       "      <td>0</td>\n",
       "      <td>0</td>\n",
       "      <td>1</td>\n",
       "      <td>0</td>\n",
       "    </tr>\n",
       "    <tr>\n",
       "      <th>5</th>\n",
       "      <td>645</td>\n",
       "      <td>44</td>\n",
       "      <td>8.0</td>\n",
       "      <td>113755.78</td>\n",
       "      <td>2</td>\n",
       "      <td>1</td>\n",
       "      <td>0</td>\n",
       "      <td>149756.71</td>\n",
       "      <td>1</td>\n",
       "      <td>0</td>\n",
       "      <td>1</td>\n",
       "      <td>1</td>\n",
       "    </tr>\n",
       "    <tr>\n",
       "      <th>6</th>\n",
       "      <td>822</td>\n",
       "      <td>50</td>\n",
       "      <td>7.0</td>\n",
       "      <td>0.00</td>\n",
       "      <td>2</td>\n",
       "      <td>1</td>\n",
       "      <td>1</td>\n",
       "      <td>10062.80</td>\n",
       "      <td>0</td>\n",
       "      <td>0</td>\n",
       "      <td>0</td>\n",
       "      <td>1</td>\n",
       "    </tr>\n",
       "    <tr>\n",
       "      <th>7</th>\n",
       "      <td>376</td>\n",
       "      <td>29</td>\n",
       "      <td>4.0</td>\n",
       "      <td>115046.74</td>\n",
       "      <td>4</td>\n",
       "      <td>1</td>\n",
       "      <td>0</td>\n",
       "      <td>119346.88</td>\n",
       "      <td>1</td>\n",
       "      <td>1</td>\n",
       "      <td>0</td>\n",
       "      <td>0</td>\n",
       "    </tr>\n",
       "    <tr>\n",
       "      <th>8</th>\n",
       "      <td>501</td>\n",
       "      <td>44</td>\n",
       "      <td>4.0</td>\n",
       "      <td>142051.07</td>\n",
       "      <td>2</td>\n",
       "      <td>0</td>\n",
       "      <td>1</td>\n",
       "      <td>74940.50</td>\n",
       "      <td>0</td>\n",
       "      <td>0</td>\n",
       "      <td>0</td>\n",
       "      <td>1</td>\n",
       "    </tr>\n",
       "    <tr>\n",
       "      <th>9</th>\n",
       "      <td>684</td>\n",
       "      <td>27</td>\n",
       "      <td>2.0</td>\n",
       "      <td>134603.88</td>\n",
       "      <td>1</td>\n",
       "      <td>1</td>\n",
       "      <td>1</td>\n",
       "      <td>71725.73</td>\n",
       "      <td>0</td>\n",
       "      <td>0</td>\n",
       "      <td>0</td>\n",
       "      <td>1</td>\n",
       "    </tr>\n",
       "  </tbody>\n",
       "</table>\n",
       "</div>"
      ],
      "text/plain": [
       "   CreditScore  Age  Tenure    Balance  NumOfProducts  HasCrCard  \\\n",
       "0          619   42     2.0       0.00              1          1   \n",
       "1          608   41     1.0   83807.86              1          0   \n",
       "2          502   42     8.0  159660.80              3          1   \n",
       "3          699   39     1.0       0.00              2          0   \n",
       "4          850   43     2.0  125510.82              1          1   \n",
       "5          645   44     8.0  113755.78              2          1   \n",
       "6          822   50     7.0       0.00              2          1   \n",
       "7          376   29     4.0  115046.74              4          1   \n",
       "8          501   44     4.0  142051.07              2          0   \n",
       "9          684   27     2.0  134603.88              1          1   \n",
       "\n",
       "   IsActiveMember  EstimatedSalary  Exited  Geography_Germany  \\\n",
       "0               1        101348.88       1                  0   \n",
       "1               1        112542.58       0                  0   \n",
       "2               0        113931.57       1                  0   \n",
       "3               0         93826.63       0                  0   \n",
       "4               1         79084.10       0                  0   \n",
       "5               0        149756.71       1                  0   \n",
       "6               1         10062.80       0                  0   \n",
       "7               0        119346.88       1                  1   \n",
       "8               1         74940.50       0                  0   \n",
       "9               1         71725.73       0                  0   \n",
       "\n",
       "   Geography_Spain  Gender_Male  \n",
       "0                0            0  \n",
       "1                1            0  \n",
       "2                0            0  \n",
       "3                0            0  \n",
       "4                1            0  \n",
       "5                1            1  \n",
       "6                0            1  \n",
       "7                0            0  \n",
       "8                0            1  \n",
       "9                0            1  "
      ]
     },
     "execution_count": 11,
     "metadata": {},
     "output_type": "execute_result"
    }
   ],
   "source": [
    "df_ohe.head(10)"
   ]
  },
  {
   "cell_type": "code",
   "execution_count": 12,
   "metadata": {
    "scrolled": false
   },
   "outputs": [
    {
     "name": "stdout",
     "output_type": "stream",
     "text": [
      "(10000, 12)\n",
      "<class 'pandas.core.frame.DataFrame'>\n",
      "RangeIndex: 10000 entries, 0 to 9999\n",
      "Data columns (total 12 columns):\n",
      " #   Column             Non-Null Count  Dtype  \n",
      "---  ------             --------------  -----  \n",
      " 0   CreditScore        10000 non-null  int64  \n",
      " 1   Age                10000 non-null  int64  \n",
      " 2   Tenure             10000 non-null  float64\n",
      " 3   Balance            10000 non-null  float64\n",
      " 4   NumOfProducts      10000 non-null  int64  \n",
      " 5   HasCrCard          10000 non-null  int64  \n",
      " 6   IsActiveMember     10000 non-null  int64  \n",
      " 7   EstimatedSalary    10000 non-null  float64\n",
      " 8   Exited             10000 non-null  int64  \n",
      " 9   Geography_Germany  10000 non-null  uint8  \n",
      " 10  Geography_Spain    10000 non-null  uint8  \n",
      " 11  Gender_Male        10000 non-null  uint8  \n",
      "dtypes: float64(3), int64(6), uint8(3)\n",
      "memory usage: 732.5 KB\n"
     ]
    }
   ],
   "source": [
    "print(df_ohe.shape)\n",
    "df_ohe.info()"
   ]
  },
  {
   "cell_type": "markdown",
   "metadata": {},
   "source": [
    "El DataFrame actualizado tiene el aspecto que se muestra arriba.\n",
    "\n",
    "1. Hay un total de 10.000 observaciones.\n",
    "2. Ya no hay valores NaN en el DataFrame\n",
    "3. Todas las columnas ahora son uniformes y contienen valores numéricos.\n",
    "4. Se han eliminado las columnas que no son necesarias para nuestro modelo."
   ]
  },
  {
   "cell_type": "markdown",
   "metadata": {},
   "source": [
    "### Separación de características y objetivo."
   ]
  },
  {
   "cell_type": "code",
   "execution_count": 13,
   "metadata": {},
   "outputs": [],
   "source": [
    "target = df_ohe['Exited']\n",
    "features = df_ohe.drop('Exited', axis=1)"
   ]
  },
  {
   "cell_type": "markdown",
   "metadata": {},
   "source": [
    "### Escalado y estandarización de características."
   ]
  },
  {
   "cell_type": "code",
   "execution_count": 14,
   "metadata": {},
   "outputs": [
    {
     "name": "stdout",
     "output_type": "stream",
     "text": [
      "Columna: CreditScore, minimo: 350, maximo: 850\n",
      "Columna: Balance, minimo: 0.0, maximo: 250898.09\n",
      "Columna: EstimatedSalary, minimo: 11.58, maximo: 199992.48\n",
      "Columna: Age, minimo: 18, maximo: 92\n",
      "Columna: NumOfProducts, minimo: 1, maximo: 4\n",
      "Columna: Tenure, minimo: 0.0, maximo: 10.0\n"
     ]
    }
   ],
   "source": [
    "numeric = ['CreditScore', 'Balance', 'EstimatedSalary', 'Age', 'NumOfProducts', 'Tenure']\n",
    "for col in features[numeric]:\n",
    "    minimo = features[col].min()\n",
    "    maximo = features[col].max()\n",
    "    print(f\"Columna: {col}, minimo: {minimo}, maximo: {maximo}\")"
   ]
  },
  {
   "cell_type": "code",
   "execution_count": 15,
   "metadata": {},
   "outputs": [],
   "source": [
    "pd.options.mode.chained_assignment = None\n",
    "\n",
    "scaler = StandardScaler()\n",
    "scaler.fit(features[numeric])\n",
    "\n",
    "features[numeric] = scaler.transform(features[numeric])"
   ]
  },
  {
   "cell_type": "code",
   "execution_count": 16,
   "metadata": {
    "scrolled": false
   },
   "outputs": [
    {
     "data": {
      "text/html": [
       "<div>\n",
       "<style scoped>\n",
       "    .dataframe tbody tr th:only-of-type {\n",
       "        vertical-align: middle;\n",
       "    }\n",
       "\n",
       "    .dataframe tbody tr th {\n",
       "        vertical-align: top;\n",
       "    }\n",
       "\n",
       "    .dataframe thead th {\n",
       "        text-align: right;\n",
       "    }\n",
       "</style>\n",
       "<table border=\"1\" class=\"dataframe\">\n",
       "  <thead>\n",
       "    <tr style=\"text-align: right;\">\n",
       "      <th></th>\n",
       "      <th>CreditScore</th>\n",
       "      <th>Age</th>\n",
       "      <th>Tenure</th>\n",
       "      <th>Balance</th>\n",
       "      <th>NumOfProducts</th>\n",
       "      <th>HasCrCard</th>\n",
       "      <th>IsActiveMember</th>\n",
       "      <th>EstimatedSalary</th>\n",
       "      <th>Geography_Germany</th>\n",
       "      <th>Geography_Spain</th>\n",
       "      <th>Gender_Male</th>\n",
       "    </tr>\n",
       "  </thead>\n",
       "  <tbody>\n",
       "    <tr>\n",
       "      <th>0</th>\n",
       "      <td>-0.326221</td>\n",
       "      <td>0.293517</td>\n",
       "      <td>-1.086246</td>\n",
       "      <td>-1.225848</td>\n",
       "      <td>-0.911583</td>\n",
       "      <td>1</td>\n",
       "      <td>1</td>\n",
       "      <td>0.021886</td>\n",
       "      <td>0</td>\n",
       "      <td>0</td>\n",
       "      <td>0</td>\n",
       "    </tr>\n",
       "    <tr>\n",
       "      <th>1</th>\n",
       "      <td>-0.440036</td>\n",
       "      <td>0.198164</td>\n",
       "      <td>-1.448581</td>\n",
       "      <td>0.117350</td>\n",
       "      <td>-0.911583</td>\n",
       "      <td>0</td>\n",
       "      <td>1</td>\n",
       "      <td>0.216534</td>\n",
       "      <td>0</td>\n",
       "      <td>1</td>\n",
       "      <td>0</td>\n",
       "    </tr>\n",
       "    <tr>\n",
       "      <th>2</th>\n",
       "      <td>-1.536794</td>\n",
       "      <td>0.293517</td>\n",
       "      <td>1.087768</td>\n",
       "      <td>1.333053</td>\n",
       "      <td>2.527057</td>\n",
       "      <td>1</td>\n",
       "      <td>0</td>\n",
       "      <td>0.240687</td>\n",
       "      <td>0</td>\n",
       "      <td>0</td>\n",
       "      <td>0</td>\n",
       "    </tr>\n",
       "    <tr>\n",
       "      <th>3</th>\n",
       "      <td>0.501521</td>\n",
       "      <td>0.007457</td>\n",
       "      <td>-1.448581</td>\n",
       "      <td>-1.225848</td>\n",
       "      <td>0.807737</td>\n",
       "      <td>0</td>\n",
       "      <td>0</td>\n",
       "      <td>-0.108918</td>\n",
       "      <td>0</td>\n",
       "      <td>0</td>\n",
       "      <td>0</td>\n",
       "    </tr>\n",
       "    <tr>\n",
       "      <th>4</th>\n",
       "      <td>2.063884</td>\n",
       "      <td>0.388871</td>\n",
       "      <td>-1.086246</td>\n",
       "      <td>0.785728</td>\n",
       "      <td>-0.911583</td>\n",
       "      <td>1</td>\n",
       "      <td>1</td>\n",
       "      <td>-0.365276</td>\n",
       "      <td>0</td>\n",
       "      <td>1</td>\n",
       "      <td>0</td>\n",
       "    </tr>\n",
       "  </tbody>\n",
       "</table>\n",
       "</div>"
      ],
      "text/plain": [
       "   CreditScore       Age    Tenure   Balance  NumOfProducts  HasCrCard  \\\n",
       "0    -0.326221  0.293517 -1.086246 -1.225848      -0.911583          1   \n",
       "1    -0.440036  0.198164 -1.448581  0.117350      -0.911583          0   \n",
       "2    -1.536794  0.293517  1.087768  1.333053       2.527057          1   \n",
       "3     0.501521  0.007457 -1.448581 -1.225848       0.807737          0   \n",
       "4     2.063884  0.388871 -1.086246  0.785728      -0.911583          1   \n",
       "\n",
       "   IsActiveMember  EstimatedSalary  Geography_Germany  Geography_Spain  \\\n",
       "0               1         0.021886                  0                0   \n",
       "1               1         0.216534                  0                1   \n",
       "2               0         0.240687                  0                0   \n",
       "3               0        -0.108918                  0                0   \n",
       "4               1        -0.365276                  0                1   \n",
       "\n",
       "   Gender_Male  \n",
       "0            0  \n",
       "1            0  \n",
       "2            0  \n",
       "3            0  \n",
       "4            0  "
      ]
     },
     "execution_count": 16,
     "metadata": {},
     "output_type": "execute_result"
    }
   ],
   "source": [
    "features.head()"
   ]
  },
  {
   "cell_type": "markdown",
   "metadata": {},
   "source": [
    "### Creacion de datasets para entrenamiento, validacion y prueba.\n",
    "\n",
    "Dividir los datos en tres submuestras para tres propósitos diferentes: entrenamiento, validación y prueba.\n",
    "Dividiré la muestra en la proporción de la siguiente manera:\n",
    "- 60% entrenamiento\n",
    "- 20% validación\n",
    "- 20% prueba"
   ]
  },
  {
   "cell_type": "code",
   "execution_count": 17,
   "metadata": {},
   "outputs": [
    {
     "name": "stdout",
     "output_type": "stream",
     "text": [
      "Tamaño de la muestra de entrenamiento: 6000\n",
      "Tamaño de la muestra de validación: 2000\n",
      "Tamaño de la muestra de prueba: 2000\n"
     ]
    }
   ],
   "source": [
    "# Datos de entrenamiento.\n",
    "\n",
    "features_train, sub_features, target_train, sub_target = train_test_split(\n",
    "    features, target, test_size=0.40, random_state=12345)\n",
    "\n",
    "# Datos de validacion y prueba.\n",
    "\n",
    "features_val, features_test, target_val, target_test = train_test_split(\n",
    "    sub_features, sub_target, test_size=0.50, random_state=12345)\n",
    "\n",
    "print('Tamaño de la muestra de entrenamiento:', features_train.shape[0])\n",
    "print('Tamaño de la muestra de validación:', features_val.shape[0])\n",
    "print('Tamaño de la muestra de prueba:', features_test.shape[0])"
   ]
  },
  {
   "cell_type": "markdown",
   "metadata": {},
   "source": [
    "## Modeling\n",
    "***"
   ]
  },
  {
   "cell_type": "markdown",
   "metadata": {},
   "source": [
    "### Desequilibrio de clases\n",
    "***\n",
    "\n",
    "A continuacion vamos a examinar que tan equilibradas se encuentran las clases, para despues entrenar un modelo sin tener en cuenta lo anterior y ver su rendimiento.\n"
   ]
  },
  {
   "cell_type": "code",
   "execution_count": 18,
   "metadata": {
    "scrolled": true
   },
   "outputs": [
    {
     "name": "stdout",
     "output_type": "stream",
     "text": [
      "0    7963\n",
      "1    2037\n",
      "Name: Exited, dtype: int64\n",
      "0    0.7963\n",
      "1    0.2037\n",
      "Name: Exited, dtype: float64\n"
     ]
    },
    {
     "data": {
      "text/plain": [
       "<AxesSubplot:>"
      ]
     },
     "execution_count": 18,
     "metadata": {},
     "output_type": "execute_result"
    },
    {
     "data": {
      "image/png": "[encoded data removed]",
      "text/plain": [
       "<Figure size 640x480 with 1 Axes>"
      ]
     },
     "metadata": {},
     "output_type": "display_data"
    }
   ],
   "source": [
    "class_frequency = df_ohe['Exited'].value_counts(normalize=True)\n",
    "print(df_ohe['Exited'].value_counts())\n",
    "print(class_frequency)\n",
    "class_frequency.plot(kind='bar')"
   ]
  },
  {
   "cell_type": "markdown",
   "metadata": {},
   "source": [
    "Podemos ver que las clases en efecto se encuentran desbalanceadas, vamos a entrenar distintos modelos y calcularemos su calidad con diferentes metricas."
   ]
  },
  {
   "cell_type": "markdown",
   "metadata": {},
   "source": [
    "### Decision Tree Classifier con clases desbalanceadas"
   ]
  },
  {
   "cell_type": "code",
   "execution_count": 19,
   "metadata": {
    "scrolled": true
   },
   "outputs": [
    {
     "name": "stdout",
     "output_type": "stream",
     "text": [
      "max_depth=1, accuracy_valid=0.791, f1_valid=0.0, accuracy_test=0.7885, f1_test=0.0\n",
      "max_depth=2, accuracy_valid=0.824, f1_valid=0.5217391304347825, accuracy_test=0.817, f1_test=0.4986301369863014\n",
      "max_depth=3, accuracy_valid=0.838, f1_valid=0.4234875444839857, accuracy_test=0.83, f1_test=0.3795620437956204\n",
      "max_depth=4, accuracy_valid=0.852, f1_valid=0.5528700906344411, accuracy_test=0.832, f1_test=0.48307692307692307\n",
      "max_depth=5, accuracy_valid=0.853, f1_valid=0.5406249999999999, accuracy_test=0.842, f1_test=0.5015772870662459\n",
      "max_depth=6, accuracy_valid=0.858, f1_valid=0.5696969696969697, accuracy_test=0.8485, f1_test=0.5359877488514548\n",
      "max_depth=7, accuracy_valid=0.8505, f1_valid=0.5320813771517998, accuracy_test=0.8375, f1_test=0.4976816074188563\n",
      "max_depth=8, accuracy_valid=0.85, f1_valid=0.5454545454545454, accuracy_test=0.833, f1_test=0.48773006134969327\n",
      "CPU times: user 199 ms, sys: 0 ns, total: 199 ms\n",
      "Wall time: 205 ms\n"
     ]
    }
   ],
   "source": [
    "%%time\n",
    "\n",
    "for depth in range(1,9):\n",
    "    model = DecisionTreeClassifier(random_state=12345, max_depth=depth)\n",
    "    model.fit(features_train, target_train)\n",
    "    \n",
    "    predictions_val = model.predict(features_val)\n",
    "    predictions_test = model.predict(features_test)\n",
    "    \n",
    "    accuracy_val = accuracy_score(target_val, predictions_val)\n",
    "    f1_val = f1_score(target_val, predictions_val)\n",
    "    \n",
    "    accuracy_test = accuracy_score(target_test, predictions_test)\n",
    "    f1_test = f1_score(target_test, predictions_test)\n",
    "    \n",
    "    print(f'max_depth={depth}, accuracy_valid={accuracy_val}, f1_valid={f1_val}, accuracy_test={accuracy_test}, f1_test={f1_test}')"
   ]
  },
  {
   "cell_type": "markdown",
   "metadata": {},
   "source": [
    "Por el planteamiento del problema sabemos que el valor objetivo de F1 es **0,59**. Para este primer modelo de árbol de decisión, nuestra prueba falló con una puntuación máxima F1 en el conjunto de validación de **0,56** y en el conjunto de pruebas de **0,53**"
   ]
  },
  {
   "cell_type": "markdown",
   "metadata": {},
   "source": [
    "### Random Forest Classifier con clases desbalanceadas"
   ]
  },
  {
   "cell_type": "code",
   "execution_count": 20,
   "metadata": {
    "scrolled": true
   },
   "outputs": [
    {
     "name": "stdout",
     "output_type": "stream",
     "text": [
      "estimators=10, accuracy_valid=0.85, f1_valid=0.5508982035928144, accuracy_test=0.84, f1_test=0.5046439628482972\n",
      "estimators=20, accuracy_valid=0.849, f1_valid=0.5451807228915662, accuracy_test=0.844, f1_test=0.5258358662613981\n",
      "estimators=30, accuracy_valid=0.856, f1_valid=0.5688622754491017, accuracy_test=0.846, f1_test=0.536144578313253\n",
      "estimators=40, accuracy_valid=0.8545, f1_valid=0.5597579425113465, accuracy_test=0.844, f1_test=0.5258358662613981\n",
      "estimators=50, accuracy_valid=0.857, f1_valid=0.5718562874251497, accuracy_test=0.8445, f1_test=0.5337331334332834\n",
      "estimators=60, accuracy_valid=0.8575, f1_valid=0.5739910313901345, accuracy_test=0.845, f1_test=0.5345345345345346\n",
      "estimators=70, accuracy_valid=0.8605, f1_valid=0.5817091454272864, accuracy_test=0.8465, f1_test=0.5369532428355959\n",
      "estimators=80, accuracy_valid=0.859, f1_valid=0.575301204819277, accuracy_test=0.849, f1_test=0.5438066465256798\n",
      "estimators=90, accuracy_valid=0.8585, f1_valid=0.5769805680119582, accuracy_test=0.8515, f1_test=0.5547226386806597\n",
      "CPU times: user 4.48 s, sys: 4.58 ms, total: 4.49 s\n",
      "Wall time: 4.52 s\n"
     ]
    }
   ],
   "source": [
    "%%time\n",
    "\n",
    "for est in range(10, 100, 10):\n",
    "    model = RandomForestClassifier(random_state=12345, n_estimators=est)\n",
    "    model.fit(features_train, target_train)\n",
    "    \n",
    "    predictions_val = model.predict(features_val)\n",
    "    predictions_test = model.predict(features_test)\n",
    "    \n",
    "    accuracy_val = accuracy_score(target_val, predictions_val)\n",
    "    f1_val = f1_score(target_val, predictions_val)\n",
    "    \n",
    "    accuracy_test = accuracy_score(target_test, predictions_test)\n",
    "    f1_test = f1_score(target_test, predictions_test)\n",
    "    \n",
    "    print(f'estimators={est}, accuracy_valid={accuracy_val}, f1_valid={f1_val}, accuracy_test={accuracy_test}, f1_test={f1_test}')"
   ]
  },
  {
   "cell_type": "markdown",
   "metadata": {},
   "source": [
    "No logramos nuestro objetivo con el modelo The Random Forest, por último probaré el modelo de regresión logística."
   ]
  },
  {
   "cell_type": "markdown",
   "metadata": {},
   "source": [
    "### Logistic Regression con clases desbalanceadas."
   ]
  },
  {
   "cell_type": "code",
   "execution_count": 21,
   "metadata": {},
   "outputs": [
    {
     "name": "stdout",
     "output_type": "stream",
     "text": [
      "accuracy_valid=0.802, f1_valid=0.33108108108108103, accuracy_test=0.7915, f1_test=0.27478260869565213\n",
      "CPU times: user 24.9 ms, sys: 23.9 ms, total: 48.8 ms\n",
      "Wall time: 35.1 ms\n"
     ]
    }
   ],
   "source": [
    "%%time\n",
    "\n",
    "model = LogisticRegression(random_state=12345, solver='liblinear')\n",
    "model.fit(features_train, target_train)\n",
    "\n",
    "predictions_val = model.predict(features_val)\n",
    "predictions_test = model.predict(features_test)\n",
    "    \n",
    "accuracy_val = accuracy_score(target_val, predictions_val)\n",
    "f1_val = f1_score(target_val, predictions_val)\n",
    "    \n",
    "accuracy_test = accuracy_score(target_test, predictions_test)\n",
    "f1_test = f1_score(target_test, predictions_test)\n",
    "    \n",
    "print(f'accuracy_valid={accuracy_val}, f1_valid={f1_val}, accuracy_test={accuracy_test}, f1_test={f1_test}')"
   ]
  },
  {
   "cell_type": "markdown",
   "metadata": {},
   "source": [
    "El modelo de regresión logística es el modelo que peor se desempeñó en las pruebas."
   ]
  },
  {
   "cell_type": "markdown",
   "metadata": {},
   "source": [
    "## Equilibrio de clases\n",
    "***\n",
    "\n",
    "Para intentar aumentar la puntuación de F1 voy a equilibrar las clases. Usaré el modelo de árbol de decisión porque aquí obtuvimos las puntuaciones de F1 más cercanas al objetivo de **0,59**"
   ]
  },
  {
   "cell_type": "code",
   "execution_count": 22,
   "metadata": {
    "scrolled": true
   },
   "outputs": [
    {
     "name": "stdout",
     "output_type": "stream",
     "text": [
      "max_depth=1, accuracy_valid=0.7545, f1_valid=0.4994903160040775, accuracy_test=0.74, f1_test=0.48514851485148514\n",
      "max_depth=2, accuracy_valid=0.765, f1_valid=0.541015625, accuracy_test=0.7465, f1_test=0.5129682997118156\n",
      "max_depth=3, accuracy_valid=0.765, f1_valid=0.541015625, accuracy_test=0.7465, f1_test=0.5129682997118156\n",
      "max_depth=4, accuracy_valid=0.711, f1_valid=0.5277777777777778, accuracy_test=0.7155, f1_test=0.5385239253852393\n",
      "max_depth=5, accuracy_valid=0.8105, f1_valid=0.5963791267305644, accuracy_test=0.798, f1_test=0.5809128630705395\n",
      "max_depth=6, accuracy_valid=0.7665, f1_valid=0.5581835383159887, accuracy_test=0.762, f1_test=0.5656934306569343\n",
      "max_depth=7, accuracy_valid=0.7725, f1_valid=0.5508390918065154, accuracy_test=0.77, f1_test=0.5593869731800767\n",
      "max_depth=8, accuracy_valid=0.763, f1_valid=0.5398058252427185, accuracy_test=0.7575, f1_test=0.5479962721342032\n",
      "CPU times: user 240 ms, sys: 61.4 ms, total: 301 ms\n",
      "Wall time: 356 ms\n"
     ]
    }
   ],
   "source": [
    "%%time\n",
    "\n",
    "for depth in range(1,9):\n",
    "    model = DecisionTreeClassifier(random_state=12345, max_depth=depth, class_weight='balanced')\n",
    "    model.fit(features_train, target_train)\n",
    "    \n",
    "    predictions_val = model.predict(features_val)\n",
    "    predictions_test = model.predict(features_test)\n",
    "    \n",
    "    accuracy_val = accuracy_score(target_val, predictions_val)\n",
    "    f1_val = f1_score(target_val, predictions_val)\n",
    "    \n",
    "    accuracy_test = accuracy_score(target_test, predictions_test)\n",
    "    f1_test = f1_score(target_test, predictions_test)\n",
    "    \n",
    "    print(f'max_depth={depth}, accuracy_valid={accuracy_val}, f1_valid={f1_val}, accuracy_test={accuracy_test}, f1_test={f1_test}')"
   ]
  },
  {
   "cell_type": "markdown",
   "metadata": {},
   "source": [
    "Con el ajuste del peso de ambas clases pude aumentar los puntajes de F1. Para el conjunto de validación, la puntuación objetivo de F1 se cumplió con **0,59**; sin embargo, la puntuación de F1 del conjunto de pruebas sigue siendo un poco baja, **0,58**. A continuación, continuaré con el sobremuestreo y el submuestreo para ver si podemos alcanzar el puntaje objetivo de F1."
   ]
  },
  {
   "cell_type": "markdown",
   "metadata": {},
   "source": [
    "### Sobremuestreo"
   ]
  },
  {
   "cell_type": "code",
   "execution_count": 23,
   "metadata": {},
   "outputs": [
    {
     "name": "stdout",
     "output_type": "stream",
     "text": [
      "(10784,)\n",
      "\n",
      "1    0.554525\n",
      "0    0.445475\n",
      "Name: Exited, dtype: float64\n",
      "\n",
      "1    5980\n",
      "0    4804\n",
      "Name: Exited, dtype: int64\n"
     ]
    },
    {
     "data": {
      "image/png": "[encoded data removed]",
      "text/plain": [
       "<Figure size 640x480 with 1 Axes>"
      ]
     },
     "metadata": {},
     "output_type": "display_data"
    }
   ],
   "source": [
    "def upsample(features, target, repeat):\n",
    "    features_zeros = features[target == 0]\n",
    "    features_ones = features[target == 1]\n",
    "    target_zeros = target[target == 0]\n",
    "    target_ones = target[target == 1]\n",
    "\n",
    "    features_upsampled = pd.concat([features_zeros] + [features_ones] * repeat)\n",
    "    target_upsampled = pd.concat([target_zeros] + [target_ones] * repeat)\n",
    "\n",
    "    features_upsampled, target_upsampled = shuffle(features_upsampled, target_upsampled, random_state=12345)\n",
    "\n",
    "    return features_upsampled, target_upsampled\n",
    "\n",
    "\n",
    "features_upsampled, target_upsampled = upsample(features_train, target_train, 5)\n",
    "\n",
    "\n",
    "\n",
    "\n",
    "print(target_upsampled.shape)\n",
    "print()\n",
    "class_frequency_upsample = target_upsampled.value_counts(normalize=True)\n",
    "class_frequency_upsample.plot(kind='bar')\n",
    "print(target_upsampled.value_counts(normalize=True))\n",
    "print()\n",
    "print(target_upsampled.value_counts())"
   ]
  },
  {
   "cell_type": "code",
   "execution_count": 24,
   "metadata": {},
   "outputs": [
    {
     "name": "stdout",
     "output_type": "stream",
     "text": [
      "max_depth=1, accuracy_valid=0.7545, f1_valid=0.4994903160040775, accuracy_test=0.74, f1_test=0.48514851485148514\n",
      "max_depth=2, accuracy_valid=0.765, f1_valid=0.541015625, accuracy_test=0.7465, f1_test=0.5129682997118156\n",
      "max_depth=3, accuracy_valid=0.765, f1_valid=0.541015625, accuracy_test=0.7465, f1_test=0.5129682997118156\n",
      "max_depth=4, accuracy_valid=0.711, f1_valid=0.5277777777777778, accuracy_test=0.7155, f1_test=0.5385239253852393\n",
      "max_depth=5, accuracy_valid=0.8105, f1_valid=0.5963791267305644, accuracy_test=0.798, f1_test=0.5809128630705395\n",
      "max_depth=6, accuracy_valid=0.7665, f1_valid=0.5581835383159887, accuracy_test=0.762, f1_test=0.5656934306569343\n",
      "max_depth=7, accuracy_valid=0.7735, f1_valid=0.5501489572989076, accuracy_test=0.772, f1_test=0.5615384615384615\n",
      "max_depth=8, accuracy_valid=0.765, f1_valid=0.5401174168297456, accuracy_test=0.758, f1_test=0.5468164794007491\n",
      "CPU times: user 283 ms, sys: 7.76 ms, total: 291 ms\n",
      "Wall time: 304 ms\n"
     ]
    }
   ],
   "source": [
    "%%time\n",
    "\n",
    "for depth in range(1,9):\n",
    "    model = DecisionTreeClassifier(random_state=12345, max_depth=depth, class_weight='balanced')\n",
    "    model.fit(features_upsampled, target_upsampled)\n",
    "    \n",
    "    predictions_val = model.predict(features_val)\n",
    "    predictions_test = model.predict(features_test)\n",
    "    \n",
    "    accuracy_val = accuracy_score(target_val, predictions_val)\n",
    "    f1_val = f1_score(target_val, predictions_val)\n",
    "    \n",
    "    accuracy_test = accuracy_score(target_test, predictions_test)\n",
    "    f1_test = f1_score(target_test, predictions_test)\n",
    "    \n",
    "    print(f'max_depth={depth}, accuracy_valid={accuracy_val}, f1_valid={f1_val}, accuracy_test={accuracy_test}, f1_test={f1_test}')"
   ]
  },
  {
   "cell_type": "markdown",
   "metadata": {},
   "source": [
    "Con el sobremuestreo todavía no logramos el puntaje objetivo de F1 y, por lo tanto, continuaré con el submuestreo."
   ]
  },
  {
   "cell_type": "markdown",
   "metadata": {},
   "source": [
    "### Submuestreo"
   ]
  },
  {
   "cell_type": "code",
   "execution_count": 25,
   "metadata": {},
   "outputs": [
    {
     "name": "stdout",
     "output_type": "stream",
     "text": [
      "(2397,)\n",
      "\n",
      "0    0.501043\n",
      "1    0.498957\n",
      "Name: Exited, dtype: float64\n",
      "\n",
      "0    1201\n",
      "1    1196\n",
      "Name: Exited, dtype: int64\n"
     ]
    },
    {
     "data": {
      "image/png": "[encoded data removed]",
      "text/plain": [
       "<Figure size 640x480 with 1 Axes>"
      ]
     },
     "metadata": {},
     "output_type": "display_data"
    }
   ],
   "source": [
    "def downsample(features, target, fraction):\n",
    "    features_zeros = features[target == 0]\n",
    "    features_ones = features[target == 1]\n",
    "    target_zeros = target[target == 0]\n",
    "    target_ones = target[target == 1]\n",
    "\n",
    "    features_downsampled = pd.concat([features_zeros.sample(frac=fraction, random_state=12345)] + [features_ones])\n",
    "    target_downsampled = pd.concat([target_zeros.sample(frac=fraction, random_state=12345)] + [target_ones])\n",
    "\n",
    "    features_downsampled, target_downsampled = shuffle(features_downsampled, target_downsampled, random_state=12345)\n",
    "\n",
    "    return features_downsampled, target_downsampled\n",
    "\n",
    "\n",
    "features_downsampled, target_downsampled = downsample(features_train, target_train, 0.25)\n",
    "\n",
    "print(target_downsampled.shape)\n",
    "print()\n",
    "class_frequency_downsample = target_downsampled.value_counts(normalize=True)\n",
    "class_frequency_downsample.plot(kind='bar')\n",
    "print(target_downsampled.value_counts(normalize=True))\n",
    "print()\n",
    "print(target_downsampled.value_counts())"
   ]
  },
  {
   "cell_type": "code",
   "execution_count": 26,
   "metadata": {
    "scrolled": false
   },
   "outputs": [
    {
     "name": "stdout",
     "output_type": "stream",
     "text": [
      "max_depth=1, accuracy_valid=0.7405, f1_valid=0.5061845861084681, accuracy_test=0.725, f1_test=0.4878957169459963\n",
      "max_depth=2, accuracy_valid=0.749, f1_valid=0.5394495412844036, accuracy_test=0.731, f1_test=0.5109090909090909\n",
      "max_depth=3, accuracy_valid=0.768, f1_valid=0.5555555555555556, accuracy_test=0.7505, f1_test=0.5261158594491927\n",
      "max_depth=4, accuracy_valid=0.7205, f1_valid=0.5360995850622406, accuracy_test=0.7245, f1_test=0.5396825396825397\n",
      "max_depth=5, accuracy_valid=0.8, f1_valid=0.5943204868154158, accuracy_test=0.811, f1_test=0.608695652173913\n",
      "max_depth=6, accuracy_valid=0.775, f1_valid=0.576271186440678, accuracy_test=0.776, f1_test=0.5897435897435899\n",
      "max_depth=7, accuracy_valid=0.7345, f1_valid=0.5271593944790739, accuracy_test=0.7355, f1_test=0.5419913419913419\n",
      "max_depth=8, accuracy_valid=0.7325, f1_valid=0.5218945487042002, accuracy_test=0.7485, f1_test=0.5496866606982991\n",
      "CPU times: user 137 ms, sys: 3.64 ms, total: 140 ms\n",
      "Wall time: 154 ms\n"
     ]
    }
   ],
   "source": [
    "%%time\n",
    "\n",
    "for depth in range(1,9):\n",
    "    model = DecisionTreeClassifier(random_state=12345, max_depth=depth, class_weight='balanced')\n",
    "    model.fit(features_downsampled, target_downsampled)\n",
    "    \n",
    "    predictions_val = model.predict(features_val)\n",
    "    predictions_test = model.predict(features_test)\n",
    "    \n",
    "    accuracy_val = accuracy_score(target_val, predictions_val)\n",
    "    f1_val = f1_score(target_val, predictions_val)\n",
    "    \n",
    "    accuracy_test = accuracy_score(target_test, predictions_test)\n",
    "    f1_test = f1_score(target_test, predictions_test)\n",
    "    \n",
    "    print(f'max_depth={depth}, accuracy_valid={accuracy_val}, f1_valid={f1_val}, accuracy_test={accuracy_test}, f1_test={f1_test}')"
   ]
  },
  {
   "cell_type": "markdown",
   "metadata": {},
   "source": [
    "Finalmente, con el submuestreo logramos alcanzar la puntuación objetivo de F1. Para el conjunto de validación, la puntuación objetivo de F1 se alcanzó en **0.59** y en el conjunto de pruebas la puntuación de F1 terminó en **0.60**."
   ]
  },
  {
   "cell_type": "markdown",
   "metadata": {},
   "source": [
    "## AUC-ROC\n",
    "***\n",
    "\n",
    "Para evaluar qué tan bien el modelo puede producir puntajes relativos para discriminar entre instancias positivas o negativas en todos los umbrales de clasificación, en la siguiente sección calcularé el puntaje ROC-AUC."
   ]
  },
  {
   "cell_type": "code",
   "execution_count": 27,
   "metadata": {},
   "outputs": [
    {
     "data": {
      "text/plain": [
       "DecisionTreeClassifier(class_weight='balanced', max_depth=5, random_state=12345)"
      ]
     },
     "execution_count": 27,
     "metadata": {},
     "output_type": "execute_result"
    }
   ],
   "source": [
    "final_model = DecisionTreeClassifier(random_state=12345, max_depth=5, class_weight='balanced')\n",
    "final_model.fit(features_downsampled, target_downsampled)"
   ]
  },
  {
   "cell_type": "code",
   "execution_count": 28,
   "metadata": {
    "scrolled": true
   },
   "outputs": [
    {
     "name": "stdout",
     "output_type": "stream",
     "text": [
      "[0.05736804 0.69509977 0.61389255 ... 0.05736804 0.03346802 0.89065087]\n"
     ]
    },
    {
     "data": {
      "image/png": "[encoded data removed]",
      "text/plain": [
       "<Figure size 640x480 with 1 Axes>"
      ]
     },
     "metadata": {},
     "output_type": "display_data"
    },
    {
     "name": "stdout",
     "output_type": "stream",
     "text": [
      "[0.05736804 0.48473758 0.2706174  ... 0.05736804 0.37385743 0.14336875]\n"
     ]
    },
    {
     "data": {
      "image/png": "[encoded data removed]",
      "text/plain": [
       "<Figure size 640x480 with 1 Axes>"
      ]
     },
     "metadata": {},
     "output_type": "display_data"
    }
   ],
   "source": [
    "probabilities_valid = final_model.predict_proba(features_val)\n",
    "probabilities_one_valid = probabilities_valid[:, 1]\n",
    "\n",
    "probabilities_test = final_model.predict_proba(features_test)\n",
    "probabilities_one_test = probabilities_test[:, 1]\n",
    "\n",
    "print(probabilities_one_valid)\n",
    "\n",
    "fpr_valid, tpr_valid, thresholds = roc_curve(target_val, probabilities_one_valid)\n",
    "\n",
    "plt.figure()\n",
    "plt.plot(fpr_valid, tpr_valid)\n",
    "plt.xlim([0.0, 1.0])\n",
    "plt.ylim([0.0, 1.0])\n",
    "plt.xlabel('Tasa de falsos positivos')\n",
    "plt.ylabel('Tasa de verdaderos positivos')\n",
    "plt.title('Curva ROC dataset de validacion')\n",
    "plt.show()\n",
    "\n",
    "fpr_test, tpr_test, thresholds = roc_curve(target_test, probabilities_one_test)\n",
    "\n",
    "print(probabilities_one_test)\n",
    "\n",
    "plt.figure()\n",
    "plt.plot(fpr_test, tpr_test)\n",
    "plt.xlim([0.0, 1.0])\n",
    "plt.ylim([0.0, 1.0])\n",
    "plt.xlabel('Tasa de falsos positivos')\n",
    "plt.ylabel('Tasa de verdaderos positivos')\n",
    "plt.title('Curva ROC dataset de prueba')\n",
    "plt.show()"
   ]
  },
  {
   "cell_type": "code",
   "execution_count": 29,
   "metadata": {},
   "outputs": [],
   "source": [
    "fpr_val, tpr_val, thresholds_val = roc_curve(target_val, probabilities_one_valid)\n",
    "\n",
    "fpr_test, tpr_test, thresholds_test = roc_curve(target_test, probabilities_one_test)"
   ]
  },
  {
   "cell_type": "code",
   "execution_count": 30,
   "metadata": {},
   "outputs": [
    {
     "data": {
      "image/png": "[encoded data removed]",
      "text/plain": [
       "<Figure size 640x480 with 1 Axes>"
      ]
     },
     "metadata": {},
     "output_type": "display_data"
    }
   ],
   "source": [
    "# Curva ROC dataset de validacion\n",
    "plt.figure()\n",
    "\n",
    "plt.plot(fpr_val, tpr_val)\n",
    "\n",
    "plt.plot([0, 1], [0, 1], linestyle='--')\n",
    "\n",
    "plt.xlim([0,1])\n",
    "plt.ylim([0,1])\n",
    "\n",
    "plt.xlabel(\"Tasa de falsos positivos\")\n",
    "plt.ylabel(\"Tasa de verdaderos positivos\")\n",
    "\n",
    "plt.title('Curva ROC dataset de validacion')\n",
    "plt.show()"
   ]
  },
  {
   "cell_type": "code",
   "execution_count": 31,
   "metadata": {},
   "outputs": [
    {
     "data": {
      "image/png": "[encoded data removed]",
      "text/plain": [
       "<Figure size 640x480 with 1 Axes>"
      ]
     },
     "metadata": {},
     "output_type": "display_data"
    }
   ],
   "source": [
    "# Curva ROC dataset de prueba\n",
    "plt.figure()\n",
    "\n",
    "plt.plot(fpr_test, tpr_test)\n",
    "\n",
    "plt.plot([0, 1], [0, 1], linestyle='--')\n",
    "\n",
    "plt.xlim([0,1])\n",
    "plt.ylim([0,1])\n",
    "\n",
    "plt.xlabel(\"Tasa de falsos positivos\")\n",
    "plt.ylabel(\"Tasa de verdaderos positivos\")\n",
    "\n",
    "plt.title('Curva ROC dataset de prueba')\n",
    "plt.show()"
   ]
  },
  {
   "cell_type": "code",
   "execution_count": 32,
   "metadata": {},
   "outputs": [
    {
     "name": "stdout",
     "output_type": "stream",
     "text": [
      "Área Bajo la Curva ROC para el dataset de validacion = 0.8241029464247908\n",
      "\n",
      "Área Bajo la Curva ROC para el dataset de prueba = 0.8383867684249502\n"
     ]
    }
   ],
   "source": [
    "auc_roc_valid = roc_auc_score(target_val, probabilities_one_valid)\n",
    "auc_roc_test = roc_auc_score(target_test, probabilities_one_test)\n",
    "\n",
    "print(f'Área Bajo la Curva ROC para el dataset de validacion = {auc_roc_valid}')\n",
    "print()\n",
    "print(f'Área Bajo la Curva ROC para el dataset de prueba = {auc_roc_test}')"
   ]
  },
  {
   "cell_type": "markdown",
   "metadata": {},
   "source": [
    "La puntuación ROC-AUC puede variar de 0 a 1. Una puntuación de 0,5 indica conjeturas aleatorias y una puntuación de 1 indica un desempeño perfecto.\n",
    "En nuestro modelo alcanzamos una puntuación ROC-AUC de **0,82** en el conjunto de validación y una puntuación ROC-AUC de **0,83** en el conjunto de pruebas. Las puntuaciones ROC-AUC alcanzadas por el modelo son satisfactorias y muestran que hemos creado un modelo que está lejos de predecir de forma aleatoria y que Beta Bank puede utilizar para predecir si un cliente abandonará el banco pronto."
   ]
  },
  {
   "cell_type": "code",
   "execution_count": null,
   "metadata": {},
   "outputs": [],
   "source": []
  }
 ],
 "metadata": {
  "ExecuteTimeLog": [
   {
    "duration": 451,
    "start_time": "2024-07-08T20:33:16.133Z"
   },
   {
    "duration": 45,
    "start_time": "2024-07-08T20:33:16.587Z"
   },
   {
    "duration": 23,
    "start_time": "2024-07-08T20:33:23.201Z"
   },
   {
    "duration": 8,
    "start_time": "2024-07-08T20:33:40.789Z"
   },
   {
    "duration": 51,
    "start_time": "2024-07-08T20:33:48.606Z"
   },
   {
    "duration": 16,
    "start_time": "2024-07-08T20:33:58.986Z"
   },
   {
    "duration": 21,
    "start_time": "2024-07-08T20:59:05.494Z"
   },
   {
    "duration": 29,
    "start_time": "2024-07-08T21:13:15.569Z"
   },
   {
    "duration": 17,
    "start_time": "2024-07-08T21:21:56.668Z"
   },
   {
    "duration": 390,
    "start_time": "2024-07-08T21:22:39.897Z"
   },
   {
    "duration": 6,
    "start_time": "2024-07-08T21:23:43.550Z"
   },
   {
    "duration": 5,
    "start_time": "2024-07-08T21:23:44.581Z"
   },
   {
    "duration": 15,
    "start_time": "2024-07-08T21:23:53.028Z"
   },
   {
    "duration": 24,
    "start_time": "2024-07-08T21:24:03.755Z"
   },
   {
    "duration": 29,
    "start_time": "2024-07-08T21:27:15.914Z"
   },
   {
    "duration": 694,
    "start_time": "2024-07-08T21:27:34.108Z"
   },
   {
    "duration": 901,
    "start_time": "2024-07-08T21:27:37.120Z"
   },
   {
    "duration": 18,
    "start_time": "2024-07-08T21:28:02.450Z"
   },
   {
    "duration": 23,
    "start_time": "2024-07-08T21:39:50.779Z"
   },
   {
    "duration": 7,
    "start_time": "2024-07-08T21:39:55.942Z"
   },
   {
    "duration": 13,
    "start_time": "2024-07-08T21:40:01.630Z"
   },
   {
    "duration": 1232,
    "start_time": "2024-07-08T21:40:37.491Z"
   },
   {
    "duration": 25,
    "start_time": "2024-07-08T21:40:38.726Z"
   },
   {
    "duration": 28,
    "start_time": "2024-07-08T21:40:38.754Z"
   },
   {
    "duration": 10,
    "start_time": "2024-07-08T21:40:38.802Z"
   },
   {
    "duration": 52,
    "start_time": "2024-07-08T21:40:38.817Z"
   },
   {
    "duration": 17,
    "start_time": "2024-07-08T21:40:38.901Z"
   },
   {
    "duration": 10,
    "start_time": "2024-07-08T21:40:38.921Z"
   },
   {
    "duration": 8,
    "start_time": "2024-07-08T21:40:38.934Z"
   },
   {
    "duration": 19,
    "start_time": "2024-07-08T21:40:38.945Z"
   },
   {
    "duration": 17,
    "start_time": "2024-07-08T21:40:39.003Z"
   },
   {
    "duration": 3,
    "start_time": "2024-07-08T21:40:39.023Z"
   },
   {
    "duration": 26,
    "start_time": "2024-07-08T21:40:39.029Z"
   },
   {
    "duration": 44,
    "start_time": "2024-07-08T21:40:39.059Z"
   },
   {
    "duration": 14,
    "start_time": "2024-07-08T21:41:22.122Z"
   },
   {
    "duration": 24,
    "start_time": "2024-07-08T21:41:24.128Z"
   },
   {
    "duration": 15,
    "start_time": "2024-07-08T21:41:32.281Z"
   },
   {
    "duration": 24,
    "start_time": "2024-07-08T21:41:34.185Z"
   },
   {
    "duration": 29,
    "start_time": "2024-07-08T21:42:22.215Z"
   },
   {
    "duration": 16,
    "start_time": "2024-07-08T21:43:39.215Z"
   },
   {
    "duration": 25,
    "start_time": "2024-07-08T21:43:41.144Z"
   },
   {
    "duration": 18,
    "start_time": "2024-07-08T21:43:48.007Z"
   },
   {
    "duration": 17,
    "start_time": "2024-07-08T21:50:03.210Z"
   },
   {
    "duration": 17,
    "start_time": "2024-07-08T21:50:16.640Z"
   },
   {
    "duration": 16,
    "start_time": "2024-07-08T21:54:48.246Z"
   },
   {
    "duration": 7,
    "start_time": "2024-07-08T21:55:46.199Z"
   },
   {
    "duration": 16,
    "start_time": "2024-07-08T22:00:15.452Z"
   },
   {
    "duration": 15,
    "start_time": "2024-07-08T22:51:19.198Z"
   },
   {
    "duration": 1213,
    "start_time": "2024-07-09T00:12:41.876Z"
   },
   {
    "duration": 31,
    "start_time": "2024-07-09T00:12:43.093Z"
   },
   {
    "duration": 34,
    "start_time": "2024-07-09T00:12:43.127Z"
   },
   {
    "duration": 37,
    "start_time": "2024-07-09T00:12:43.166Z"
   },
   {
    "duration": 57,
    "start_time": "2024-07-09T00:12:43.206Z"
   },
   {
    "duration": 38,
    "start_time": "2024-07-09T00:12:43.270Z"
   },
   {
    "duration": 6,
    "start_time": "2024-07-09T00:12:43.312Z"
   },
   {
    "duration": 6,
    "start_time": "2024-07-09T00:12:43.322Z"
   },
   {
    "duration": 20,
    "start_time": "2024-07-09T00:12:43.331Z"
   },
   {
    "duration": 58,
    "start_time": "2024-07-09T00:12:43.357Z"
   },
   {
    "duration": 21,
    "start_time": "2024-07-09T00:12:43.419Z"
   },
   {
    "duration": 18,
    "start_time": "2024-07-09T00:12:43.444Z"
   },
   {
    "duration": 6,
    "start_time": "2024-07-09T00:12:43.501Z"
   },
   {
    "duration": 19,
    "start_time": "2024-07-09T00:12:43.511Z"
   },
   {
    "duration": 28,
    "start_time": "2024-07-09T00:12:43.533Z"
   },
   {
    "duration": 4,
    "start_time": "2024-07-09T00:17:59.520Z"
   },
   {
    "duration": 19,
    "start_time": "2024-07-09T00:20:59.271Z"
   },
   {
    "duration": 13,
    "start_time": "2024-07-09T00:23:59.425Z"
   },
   {
    "duration": 20,
    "start_time": "2024-07-09T00:24:01.141Z"
   },
   {
    "duration": 16,
    "start_time": "2024-07-09T00:24:11.619Z"
   },
   {
    "duration": 6,
    "start_time": "2024-07-09T00:24:13.681Z"
   },
   {
    "duration": 1309,
    "start_time": "2024-07-09T00:25:00.599Z"
   },
   {
    "duration": 34,
    "start_time": "2024-07-09T00:25:01.912Z"
   },
   {
    "duration": 51,
    "start_time": "2024-07-09T00:25:01.950Z"
   },
   {
    "duration": 16,
    "start_time": "2024-07-09T00:25:02.006Z"
   },
   {
    "duration": 85,
    "start_time": "2024-07-09T00:25:02.029Z"
   },
   {
    "duration": 17,
    "start_time": "2024-07-09T00:25:02.118Z"
   },
   {
    "duration": 5,
    "start_time": "2024-07-09T00:25:02.138Z"
   },
   {
    "duration": 5,
    "start_time": "2024-07-09T00:25:02.146Z"
   },
   {
    "duration": 55,
    "start_time": "2024-07-09T00:25:02.154Z"
   },
   {
    "duration": 17,
    "start_time": "2024-07-09T00:25:02.213Z"
   },
   {
    "duration": 20,
    "start_time": "2024-07-09T00:25:02.232Z"
   },
   {
    "duration": 56,
    "start_time": "2024-07-09T00:25:02.256Z"
   },
   {
    "duration": 10,
    "start_time": "2024-07-09T00:25:02.315Z"
   },
   {
    "duration": 22,
    "start_time": "2024-07-09T00:25:02.330Z"
   },
   {
    "duration": 62,
    "start_time": "2024-07-09T00:25:02.354Z"
   },
   {
    "duration": 72,
    "start_time": "2024-07-09T00:28:09.800Z"
   },
   {
    "duration": 35,
    "start_time": "2024-07-09T00:28:23.867Z"
   },
   {
    "duration": 52,
    "start_time": "2024-07-09T00:29:01.587Z"
   },
   {
    "duration": 1430,
    "start_time": "2024-07-09T00:29:05.661Z"
   },
   {
    "duration": 46,
    "start_time": "2024-07-09T00:32:39.755Z"
   },
   {
    "duration": 5,
    "start_time": "2024-07-09T00:32:58.477Z"
   },
   {
    "duration": 1135,
    "start_time": "2024-07-09T00:33:01.422Z"
   },
   {
    "duration": 32,
    "start_time": "2024-07-09T00:34:27.670Z"
   },
   {
    "duration": 5,
    "start_time": "2024-07-09T00:34:46.242Z"
   },
   {
    "duration": 25586,
    "start_time": "2024-07-09T00:34:51.735Z"
   },
   {
    "duration": 902,
    "start_time": "2024-07-09T00:35:56.391Z"
   },
   {
    "duration": 10,
    "start_time": "2024-07-09T00:38:10.894Z"
   },
   {
    "duration": 1106,
    "start_time": "2024-07-09T00:38:21.233Z"
   },
   {
    "duration": 1259,
    "start_time": "2024-07-09T00:41:11.606Z"
   },
   {
    "duration": 5,
    "start_time": "2024-07-09T00:41:48.073Z"
   },
   {
    "duration": 1253,
    "start_time": "2024-07-09T00:41:51.858Z"
   },
   {
    "duration": 1312,
    "start_time": "2024-07-09T00:42:20.669Z"
   },
   {
    "duration": 1272,
    "start_time": "2024-07-09T00:42:32.490Z"
   },
   {
    "duration": 1237,
    "start_time": "2024-07-09T00:42:52.570Z"
   },
   {
    "duration": 1243,
    "start_time": "2024-07-09T00:43:01.143Z"
   },
   {
    "duration": 270,
    "start_time": "2024-07-09T00:45:46.588Z"
   },
   {
    "duration": 92,
    "start_time": "2024-07-09T00:46:09.354Z"
   },
   {
    "duration": 92,
    "start_time": "2024-07-09T00:46:52.257Z"
   },
   {
    "duration": 282,
    "start_time": "2024-07-09T00:50:12.634Z"
   },
   {
    "duration": 1289,
    "start_time": "2024-07-09T00:50:30.119Z"
   },
   {
    "duration": 1220,
    "start_time": "2024-07-09T00:50:41.085Z"
   },
   {
    "duration": 1273,
    "start_time": "2024-07-09T00:53:09.003Z"
   },
   {
    "duration": 82,
    "start_time": "2024-07-09T01:02:36.475Z"
   },
   {
    "duration": 9,
    "start_time": "2024-07-09T01:04:43.963Z"
   },
   {
    "duration": 1308,
    "start_time": "2024-07-09T01:04:54.125Z"
   },
   {
    "duration": 918,
    "start_time": "2024-07-09T01:05:05.673Z"
   },
   {
    "duration": 25,
    "start_time": "2024-07-09T01:10:15.508Z"
   },
   {
    "duration": 26,
    "start_time": "2024-07-09T01:11:30.944Z"
   },
   {
    "duration": 18,
    "start_time": "2024-07-09T01:12:09.337Z"
   },
   {
    "duration": 1298,
    "start_time": "2024-07-09T01:14:12.598Z"
   },
   {
    "duration": 221,
    "start_time": "2024-07-09T01:18:13.396Z"
   },
   {
    "duration": 1571,
    "start_time": "2024-07-09T01:18:47.971Z"
   },
   {
    "duration": 4370,
    "start_time": "2024-07-09T01:21:26.811Z"
   },
   {
    "duration": 97,
    "start_time": "2024-07-09T01:23:02.604Z"
   },
   {
    "duration": 340,
    "start_time": "2024-07-09T01:25:01.614Z"
   },
   {
    "duration": 251,
    "start_time": "2024-07-09T01:25:14.489Z"
   },
   {
    "duration": 559,
    "start_time": "2024-07-09T01:27:55.144Z"
   },
   {
    "duration": 1202,
    "start_time": "2024-07-09T01:28:33.961Z"
   },
   {
    "duration": 1181,
    "start_time": "2024-07-09T01:28:46.544Z"
   },
   {
    "duration": 25,
    "start_time": "2024-07-09T01:28:47.729Z"
   },
   {
    "duration": 26,
    "start_time": "2024-07-09T01:28:47.757Z"
   },
   {
    "duration": 9,
    "start_time": "2024-07-09T01:28:47.801Z"
   },
   {
    "duration": 53,
    "start_time": "2024-07-09T01:28:47.813Z"
   },
   {
    "duration": 47,
    "start_time": "2024-07-09T01:28:47.869Z"
   },
   {
    "duration": 6,
    "start_time": "2024-07-09T01:28:47.919Z"
   },
   {
    "duration": 6,
    "start_time": "2024-07-09T01:28:47.929Z"
   },
   {
    "duration": 18,
    "start_time": "2024-07-09T01:28:47.938Z"
   },
   {
    "duration": 14,
    "start_time": "2024-07-09T01:28:48.006Z"
   },
   {
    "duration": 20,
    "start_time": "2024-07-09T01:28:48.023Z"
   },
   {
    "duration": 15,
    "start_time": "2024-07-09T01:28:48.047Z"
   },
   {
    "duration": 6,
    "start_time": "2024-07-09T01:28:48.103Z"
   },
   {
    "duration": 18,
    "start_time": "2024-07-09T01:28:48.112Z"
   },
   {
    "duration": 28,
    "start_time": "2024-07-09T01:28:48.133Z"
   },
   {
    "duration": 478,
    "start_time": "2024-07-09T01:28:48.164Z"
   },
   {
    "duration": 0,
    "start_time": "2024-07-09T01:28:48.645Z"
   },
   {
    "duration": 0,
    "start_time": "2024-07-09T01:28:48.646Z"
   },
   {
    "duration": 0,
    "start_time": "2024-07-09T01:28:48.648Z"
   },
   {
    "duration": 0,
    "start_time": "2024-07-09T01:28:48.651Z"
   },
   {
    "duration": 0,
    "start_time": "2024-07-09T01:28:48.653Z"
   },
   {
    "duration": 0,
    "start_time": "2024-07-09T01:28:48.657Z"
   },
   {
    "duration": 561,
    "start_time": "2024-07-09T01:29:32.820Z"
   },
   {
    "duration": 346,
    "start_time": "2024-07-09T01:30:04.379Z"
   },
   {
    "duration": 335,
    "start_time": "2024-07-09T01:30:40.505Z"
   },
   {
    "duration": 263,
    "start_time": "2024-07-09T01:30:50.118Z"
   },
   {
    "duration": 4313,
    "start_time": "2024-07-09T01:30:54.658Z"
   },
   {
    "duration": 68,
    "start_time": "2024-07-09T01:30:58.975Z"
   },
   {
    "duration": 10,
    "start_time": "2024-07-09T01:32:36.208Z"
   },
   {
    "duration": 1215,
    "start_time": "2024-07-09T01:32:44.781Z"
   },
   {
    "duration": 37,
    "start_time": "2024-07-09T01:32:45.999Z"
   },
   {
    "duration": 74,
    "start_time": "2024-07-09T01:32:46.040Z"
   },
   {
    "duration": 9,
    "start_time": "2024-07-09T01:32:46.119Z"
   },
   {
    "duration": 95,
    "start_time": "2024-07-09T01:32:46.131Z"
   },
   {
    "duration": 17,
    "start_time": "2024-07-09T01:32:46.230Z"
   },
   {
    "duration": 9,
    "start_time": "2024-07-09T01:32:46.250Z"
   },
   {
    "duration": 6,
    "start_time": "2024-07-09T01:32:46.262Z"
   },
   {
    "duration": 23,
    "start_time": "2024-07-09T01:32:46.301Z"
   },
   {
    "duration": 14,
    "start_time": "2024-07-09T01:32:46.331Z"
   },
   {
    "duration": 20,
    "start_time": "2024-07-09T01:32:46.348Z"
   },
   {
    "duration": 19,
    "start_time": "2024-07-09T01:32:46.402Z"
   },
   {
    "duration": 6,
    "start_time": "2024-07-09T01:32:46.425Z"
   },
   {
    "duration": 20,
    "start_time": "2024-07-09T01:32:46.435Z"
   },
   {
    "duration": 65,
    "start_time": "2024-07-09T01:32:46.459Z"
   },
   {
    "duration": 11,
    "start_time": "2024-07-09T01:32:46.529Z"
   },
   {
    "duration": 303,
    "start_time": "2024-07-09T01:32:46.546Z"
   },
   {
    "duration": 4314,
    "start_time": "2024-07-09T01:32:46.852Z"
   },
   {
    "duration": 76,
    "start_time": "2024-07-09T01:32:51.169Z"
   },
   {
    "duration": 533,
    "start_time": "2024-07-09T01:32:51.248Z"
   },
   {
    "duration": 0,
    "start_time": "2024-07-09T01:32:51.784Z"
   },
   {
    "duration": 0,
    "start_time": "2024-07-09T01:32:51.787Z"
   },
   {
    "duration": 271,
    "start_time": "2024-07-09T01:33:17.657Z"
   },
   {
    "duration": 250,
    "start_time": "2024-07-09T01:33:29.936Z"
   },
   {
    "duration": 90,
    "start_time": "2024-07-09T01:35:59.177Z"
   },
   {
    "duration": 32,
    "start_time": "2024-07-09T01:36:18.883Z"
   },
   {
    "duration": 226,
    "start_time": "2024-07-09T01:36:40.981Z"
   },
   {
    "duration": 8,
    "start_time": "2024-07-09T01:38:06.042Z"
   },
   {
    "duration": 32,
    "start_time": "2024-07-09T01:38:59.334Z"
   },
   {
    "duration": 761,
    "start_time": "2024-07-09T01:39:56.148Z"
   },
   {
    "duration": 6,
    "start_time": "2024-07-09T01:42:14.418Z"
   },
   {
    "duration": 81,
    "start_time": "2024-07-09T01:42:19.179Z"
   },
   {
    "duration": 22,
    "start_time": "2024-07-09T01:46:57.832Z"
   },
   {
    "duration": 30,
    "start_time": "2024-07-09T01:47:09.830Z"
   },
   {
    "duration": 40,
    "start_time": "2024-07-09T01:47:40.900Z"
   },
   {
    "duration": 432,
    "start_time": "2024-07-09T01:48:24.911Z"
   },
   {
    "duration": 27,
    "start_time": "2024-07-09T01:49:07.975Z"
   },
   {
    "duration": 161,
    "start_time": "2024-07-09T01:49:32.012Z"
   },
   {
    "duration": 2594,
    "start_time": "2024-07-09T01:50:18.440Z"
   },
   {
    "duration": 7894,
    "start_time": "2024-07-09T01:50:36.968Z"
   },
   {
    "duration": 3986,
    "start_time": "2024-07-09T01:51:12.596Z"
   },
   {
    "duration": 257,
    "start_time": "2024-07-09T01:51:32.792Z"
   },
   {
    "duration": 4356,
    "start_time": "2024-07-09T01:51:35.747Z"
   },
   {
    "duration": 94,
    "start_time": "2024-07-09T01:51:40.107Z"
   },
   {
    "duration": 4041,
    "start_time": "2024-07-09T01:51:40.204Z"
   },
   {
    "duration": 27,
    "start_time": "2024-07-09T01:51:44.250Z"
   },
   {
    "duration": 7662,
    "start_time": "2024-07-09T01:51:44.280Z"
   },
   {
    "duration": 20,
    "start_time": "2024-07-09T01:51:51.945Z"
   },
   {
    "duration": 2675,
    "start_time": "2024-07-09T01:51:51.968Z"
   },
   {
    "duration": 273,
    "start_time": "2024-07-09T01:52:11.234Z"
   },
   {
    "duration": 395,
    "start_time": "2024-07-09T01:52:21.330Z"
   },
   {
    "duration": 168,
    "start_time": "2024-07-09T01:52:29.442Z"
   },
   {
    "duration": 5,
    "start_time": "2024-07-09T01:55:14.328Z"
   },
   {
    "duration": 10,
    "start_time": "2024-07-09T01:55:28.178Z"
   },
   {
    "duration": 25,
    "start_time": "2024-07-09T01:55:44.918Z"
   },
   {
    "duration": 17,
    "start_time": "2024-07-09T01:55:57.963Z"
   },
   {
    "duration": 17,
    "start_time": "2024-07-09T01:58:52.733Z"
   },
   {
    "duration": 7,
    "start_time": "2024-07-09T01:59:24.013Z"
   },
   {
    "duration": 209,
    "start_time": "2024-07-09T01:59:43.918Z"
   },
   {
    "duration": 4219,
    "start_time": "2024-07-09T03:01:59.334Z"
   },
   {
    "duration": 32,
    "start_time": "2024-07-09T03:02:35.892Z"
   },
   {
    "duration": 228,
    "start_time": "2024-07-09T03:03:13.099Z"
   },
   {
    "duration": 20,
    "start_time": "2024-07-09T03:03:24.582Z"
   },
   {
    "duration": 311,
    "start_time": "2024-07-09T03:03:40.324Z"
   },
   {
    "duration": 19,
    "start_time": "2024-07-09T03:03:52.646Z"
   },
   {
    "duration": 145,
    "start_time": "2024-07-09T03:04:15.509Z"
   },
   {
    "duration": 15,
    "start_time": "2024-07-09T03:04:46.697Z"
   },
   {
    "duration": 1206,
    "start_time": "2024-07-09T03:04:54.236Z"
   },
   {
    "duration": 25,
    "start_time": "2024-07-09T03:04:55.445Z"
   },
   {
    "duration": 43,
    "start_time": "2024-07-09T03:04:55.472Z"
   },
   {
    "duration": 8,
    "start_time": "2024-07-09T03:04:55.519Z"
   },
   {
    "duration": 74,
    "start_time": "2024-07-09T03:04:55.531Z"
   },
   {
    "duration": 18,
    "start_time": "2024-07-09T03:04:55.611Z"
   },
   {
    "duration": 10,
    "start_time": "2024-07-09T03:04:55.632Z"
   },
   {
    "duration": 6,
    "start_time": "2024-07-09T03:04:55.646Z"
   },
   {
    "duration": 50,
    "start_time": "2024-07-09T03:04:55.657Z"
   },
   {
    "duration": 13,
    "start_time": "2024-07-09T03:04:55.714Z"
   },
   {
    "duration": 18,
    "start_time": "2024-07-09T03:04:55.729Z"
   },
   {
    "duration": 57,
    "start_time": "2024-07-09T03:04:55.750Z"
   },
   {
    "duration": 5,
    "start_time": "2024-07-09T03:04:55.810Z"
   },
   {
    "duration": 8,
    "start_time": "2024-07-09T03:04:55.818Z"
   },
   {
    "duration": 12,
    "start_time": "2024-07-09T03:04:55.829Z"
   },
   {
    "duration": 78,
    "start_time": "2024-07-09T03:04:55.844Z"
   },
   {
    "duration": 19,
    "start_time": "2024-07-09T03:04:55.928Z"
   },
   {
    "duration": 13,
    "start_time": "2024-07-09T03:04:55.950Z"
   },
   {
    "duration": 40,
    "start_time": "2024-07-09T03:04:55.966Z"
   },
   {
    "duration": 235,
    "start_time": "2024-07-09T03:04:56.009Z"
   },
   {
    "duration": 4659,
    "start_time": "2024-07-09T03:04:56.247Z"
   },
   {
    "duration": 32,
    "start_time": "2024-07-09T03:05:00.910Z"
   },
   {
    "duration": 371,
    "start_time": "2024-07-09T03:05:00.945Z"
   },
   {
    "duration": 19,
    "start_time": "2024-07-09T03:05:01.319Z"
   },
   {
    "duration": 324,
    "start_time": "2024-07-09T03:05:01.342Z"
   },
   {
    "duration": 33,
    "start_time": "2024-07-09T03:05:01.669Z"
   },
   {
    "duration": 160,
    "start_time": "2024-07-09T03:05:01.704Z"
   },
   {
    "duration": 30,
    "start_time": "2024-07-09T03:05:01.871Z"
   },
   {
    "duration": 25,
    "start_time": "2024-07-09T03:05:01.904Z"
   },
   {
    "duration": 11,
    "start_time": "2024-07-09T03:05:01.932Z"
   },
   {
    "duration": 292,
    "start_time": "2024-07-09T03:05:01.945Z"
   },
   {
    "duration": 4672,
    "start_time": "2024-07-09T03:05:02.241Z"
   },
   {
    "duration": 89,
    "start_time": "2024-07-09T03:05:06.915Z"
   },
   {
    "duration": 345,
    "start_time": "2024-07-09T03:05:07.011Z"
   },
   {
    "duration": 25,
    "start_time": "2024-07-09T03:05:07.359Z"
   },
   {
    "duration": 414,
    "start_time": "2024-07-09T03:05:07.386Z"
   },
   {
    "duration": 24,
    "start_time": "2024-07-09T03:05:07.806Z"
   },
   {
    "duration": 175,
    "start_time": "2024-07-09T03:05:07.834Z"
   },
   {
    "duration": 18,
    "start_time": "2024-07-09T03:05:45.026Z"
   },
   {
    "duration": 11,
    "start_time": "2024-07-09T03:05:56.467Z"
   },
   {
    "duration": 401,
    "start_time": "2024-07-09T03:06:08.828Z"
   },
   {
    "duration": 26,
    "start_time": "2024-07-09T03:06:20.551Z"
   },
   {
    "duration": 5255,
    "start_time": "2024-07-09T03:07:06.923Z"
   },
   {
    "duration": 35,
    "start_time": "2024-07-09T03:07:12.183Z"
   },
   {
    "duration": 27,
    "start_time": "2024-07-09T03:07:12.221Z"
   },
   {
    "duration": 9,
    "start_time": "2024-07-09T03:07:12.253Z"
   },
   {
    "duration": 86,
    "start_time": "2024-07-09T03:07:12.265Z"
   },
   {
    "duration": 17,
    "start_time": "2024-07-09T03:07:12.355Z"
   },
   {
    "duration": 6,
    "start_time": "2024-07-09T03:07:12.404Z"
   },
   {
    "duration": 5,
    "start_time": "2024-07-09T03:07:12.414Z"
   },
   {
    "duration": 19,
    "start_time": "2024-07-09T03:07:12.422Z"
   },
   {
    "duration": 15,
    "start_time": "2024-07-09T03:07:12.447Z"
   },
   {
    "duration": 20,
    "start_time": "2024-07-09T03:07:12.503Z"
   },
   {
    "duration": 17,
    "start_time": "2024-07-09T03:07:12.526Z"
   },
   {
    "duration": 6,
    "start_time": "2024-07-09T03:07:12.547Z"
   },
   {
    "duration": 7,
    "start_time": "2024-07-09T03:07:12.601Z"
   },
   {
    "duration": 12,
    "start_time": "2024-07-09T03:07:12.612Z"
   },
   {
    "duration": 32,
    "start_time": "2024-07-09T03:07:12.627Z"
   },
   {
    "duration": 48,
    "start_time": "2024-07-09T03:07:12.667Z"
   },
   {
    "duration": 14,
    "start_time": "2024-07-09T03:07:12.719Z"
   },
   {
    "duration": 11,
    "start_time": "2024-07-09T03:07:12.736Z"
   },
   {
    "duration": 276,
    "start_time": "2024-07-09T03:07:12.750Z"
   },
   {
    "duration": 4736,
    "start_time": "2024-07-09T03:07:13.029Z"
   },
   {
    "duration": 45,
    "start_time": "2024-07-09T03:07:17.769Z"
   },
   {
    "duration": 392,
    "start_time": "2024-07-09T03:07:17.817Z"
   },
   {
    "duration": 22,
    "start_time": "2024-07-09T03:07:18.222Z"
   },
   {
    "duration": 315,
    "start_time": "2024-07-09T03:07:18.247Z"
   },
   {
    "duration": 39,
    "start_time": "2024-07-09T03:07:18.566Z"
   },
   {
    "duration": 173,
    "start_time": "2024-07-09T03:07:18.608Z"
   },
   {
    "duration": 19,
    "start_time": "2024-07-09T03:07:18.802Z"
   },
   {
    "duration": 12,
    "start_time": "2024-07-09T03:07:18.823Z"
   },
   {
    "duration": 8,
    "start_time": "2024-07-09T03:07:18.838Z"
   },
   {
    "duration": 243,
    "start_time": "2024-07-09T03:07:18.848Z"
   },
   {
    "duration": 22,
    "start_time": "2024-07-09T03:07:19.094Z"
   },
   {
    "duration": 25,
    "start_time": "2024-07-09T03:07:19.118Z"
   },
   {
    "duration": 10,
    "start_time": "2024-07-09T03:07:19.145Z"
   },
   {
    "duration": 294,
    "start_time": "2024-07-09T03:07:19.157Z"
   },
   {
    "duration": 4721,
    "start_time": "2024-07-09T03:07:19.454Z"
   },
   {
    "duration": 70,
    "start_time": "2024-07-09T03:07:24.178Z"
   },
   {
    "duration": 393,
    "start_time": "2024-07-09T03:07:24.252Z"
   },
   {
    "duration": 32,
    "start_time": "2024-07-09T03:07:24.649Z"
   },
   {
    "duration": 402,
    "start_time": "2024-07-09T03:07:24.701Z"
   },
   {
    "duration": 22,
    "start_time": "2024-07-09T03:07:25.106Z"
   },
   {
    "duration": 186,
    "start_time": "2024-07-09T03:07:25.131Z"
   },
   {
    "duration": 186,
    "start_time": "2024-07-09T03:07:57.475Z"
   },
   {
    "duration": 11,
    "start_time": "2024-07-09T03:08:37.853Z"
   },
   {
    "duration": 12,
    "start_time": "2024-07-09T03:09:06.553Z"
   },
   {
    "duration": 1496,
    "start_time": "2024-07-09T03:09:14.050Z"
   },
   {
    "duration": 27,
    "start_time": "2024-07-09T03:09:15.550Z"
   },
   {
    "duration": 39,
    "start_time": "2024-07-09T03:09:15.580Z"
   },
   {
    "duration": 10,
    "start_time": "2024-07-09T03:09:15.624Z"
   },
   {
    "duration": 87,
    "start_time": "2024-07-09T03:09:15.638Z"
   },
   {
    "duration": 18,
    "start_time": "2024-07-09T03:09:15.729Z"
   },
   {
    "duration": 11,
    "start_time": "2024-07-09T03:09:15.751Z"
   },
   {
    "duration": 37,
    "start_time": "2024-07-09T03:09:15.765Z"
   },
   {
    "duration": 23,
    "start_time": "2024-07-09T03:09:15.806Z"
   },
   {
    "duration": 14,
    "start_time": "2024-07-09T03:09:15.835Z"
   },
   {
    "duration": 53,
    "start_time": "2024-07-09T03:09:15.851Z"
   },
   {
    "duration": 16,
    "start_time": "2024-07-09T03:09:15.911Z"
   },
   {
    "duration": 6,
    "start_time": "2024-07-09T03:09:15.931Z"
   },
   {
    "duration": 11,
    "start_time": "2024-07-09T03:09:15.949Z"
   },
   {
    "duration": 42,
    "start_time": "2024-07-09T03:09:15.966Z"
   },
   {
    "duration": 33,
    "start_time": "2024-07-09T03:09:16.011Z"
   },
   {
    "duration": 17,
    "start_time": "2024-07-09T03:09:16.048Z"
   },
   {
    "duration": 36,
    "start_time": "2024-07-09T03:09:16.068Z"
   },
   {
    "duration": 10,
    "start_time": "2024-07-09T03:09:16.113Z"
   },
   {
    "duration": 314,
    "start_time": "2024-07-09T03:09:16.126Z"
   },
   {
    "duration": 4516,
    "start_time": "2024-07-09T03:09:16.444Z"
   },
   {
    "duration": 68,
    "start_time": "2024-07-09T03:09:20.963Z"
   },
   {
    "duration": 394,
    "start_time": "2024-07-09T03:09:21.035Z"
   },
   {
    "duration": 23,
    "start_time": "2024-07-09T03:09:21.433Z"
   },
   {
    "duration": 355,
    "start_time": "2024-07-09T03:09:21.459Z"
   },
   {
    "duration": 27,
    "start_time": "2024-07-09T03:09:21.817Z"
   },
   {
    "duration": 194,
    "start_time": "2024-07-09T03:09:21.847Z"
   },
   {
    "duration": 24,
    "start_time": "2024-07-09T03:09:22.051Z"
   },
   {
    "duration": 29,
    "start_time": "2024-07-09T03:09:22.082Z"
   },
   {
    "duration": 7,
    "start_time": "2024-07-09T03:09:22.115Z"
   },
   {
    "duration": 340,
    "start_time": "2024-07-09T03:09:22.125Z"
   },
   {
    "duration": 203,
    "start_time": "2024-07-09T03:09:22.468Z"
   },
   {
    "duration": 27,
    "start_time": "2024-07-09T03:09:22.675Z"
   },
   {
    "duration": 31,
    "start_time": "2024-07-09T03:09:22.705Z"
   },
   {
    "duration": 28,
    "start_time": "2024-07-09T03:09:22.740Z"
   },
   {
    "duration": 31,
    "start_time": "2024-07-09T03:09:22.771Z"
   },
   {
    "duration": 279,
    "start_time": "2024-07-09T03:09:22.805Z"
   },
   {
    "duration": 4499,
    "start_time": "2024-07-09T03:09:23.088Z"
   },
   {
    "duration": 116,
    "start_time": "2024-07-09T03:09:27.594Z"
   },
   {
    "duration": 422,
    "start_time": "2024-07-09T03:09:27.714Z"
   },
   {
    "duration": 32,
    "start_time": "2024-07-09T03:09:28.141Z"
   },
   {
    "duration": 460,
    "start_time": "2024-07-09T03:09:28.177Z"
   },
   {
    "duration": 20,
    "start_time": "2024-07-09T03:09:28.641Z"
   },
   {
    "duration": 178,
    "start_time": "2024-07-09T03:09:28.665Z"
   },
   {
    "duration": 14,
    "start_time": "2024-07-09T03:10:41.400Z"
   },
   {
    "duration": 24,
    "start_time": "2024-07-09T03:10:44.569Z"
   },
   {
    "duration": 19,
    "start_time": "2024-07-09T03:10:47.823Z"
   },
   {
    "duration": 9,
    "start_time": "2024-07-09T03:10:50.074Z"
   },
   {
    "duration": 8,
    "start_time": "2024-07-09T03:10:50.958Z"
   },
   {
    "duration": 11,
    "start_time": "2024-07-09T03:10:51.726Z"
   },
   {
    "duration": 210,
    "start_time": "2024-07-09T03:21:34.498Z"
   },
   {
    "duration": 25138,
    "start_time": "2024-07-09T03:24:31.892Z"
   },
   {
    "duration": 1092,
    "start_time": "2024-07-09T03:27:01.607Z"
   },
   {
    "duration": 1522,
    "start_time": "2024-07-09T03:27:50.679Z"
   },
   {
    "duration": 25,
    "start_time": "2024-07-09T03:27:52.205Z"
   },
   {
    "duration": 28,
    "start_time": "2024-07-09T03:27:52.232Z"
   },
   {
    "duration": 37,
    "start_time": "2024-07-09T03:27:52.266Z"
   },
   {
    "duration": 50,
    "start_time": "2024-07-09T03:27:52.307Z"
   },
   {
    "duration": 43,
    "start_time": "2024-07-09T03:27:52.360Z"
   },
   {
    "duration": 7,
    "start_time": "2024-07-09T03:27:52.406Z"
   },
   {
    "duration": 5,
    "start_time": "2024-07-09T03:27:52.417Z"
   },
   {
    "duration": 19,
    "start_time": "2024-07-09T03:27:52.426Z"
   },
   {
    "duration": 61,
    "start_time": "2024-07-09T03:27:52.452Z"
   },
   {
    "duration": 20,
    "start_time": "2024-07-09T03:27:52.516Z"
   },
   {
    "duration": 17,
    "start_time": "2024-07-09T03:27:52.539Z"
   },
   {
    "duration": 45,
    "start_time": "2024-07-09T03:27:52.559Z"
   },
   {
    "duration": 10,
    "start_time": "2024-07-09T03:27:52.608Z"
   },
   {
    "duration": 13,
    "start_time": "2024-07-09T03:27:52.621Z"
   },
   {
    "duration": 25,
    "start_time": "2024-07-09T03:27:52.637Z"
   },
   {
    "duration": 18,
    "start_time": "2024-07-09T03:27:52.701Z"
   },
   {
    "duration": 14,
    "start_time": "2024-07-09T03:27:52.722Z"
   },
   {
    "duration": 9,
    "start_time": "2024-07-09T03:27:52.741Z"
   },
   {
    "duration": 272,
    "start_time": "2024-07-09T03:27:52.752Z"
   },
   {
    "duration": 4718,
    "start_time": "2024-07-09T03:27:53.028Z"
   },
   {
    "duration": 56,
    "start_time": "2024-07-09T03:27:57.749Z"
   },
   {
    "duration": 304,
    "start_time": "2024-07-09T03:27:57.808Z"
   },
   {
    "duration": 19,
    "start_time": "2024-07-09T03:27:58.116Z"
   },
   {
    "duration": 342,
    "start_time": "2024-07-09T03:27:58.138Z"
   },
   {
    "duration": 29,
    "start_time": "2024-07-09T03:27:58.483Z"
   },
   {
    "duration": 177,
    "start_time": "2024-07-09T03:27:58.515Z"
   },
   {
    "duration": 17,
    "start_time": "2024-07-09T03:27:58.703Z"
   },
   {
    "duration": 12,
    "start_time": "2024-07-09T03:27:58.723Z"
   },
   {
    "duration": 7,
    "start_time": "2024-07-09T03:27:58.738Z"
   },
   {
    "duration": 312,
    "start_time": "2024-07-09T03:27:58.748Z"
   },
   {
    "duration": 223,
    "start_time": "2024-07-09T03:27:59.063Z"
   },
   {
    "duration": 22,
    "start_time": "2024-07-09T03:27:59.289Z"
   },
   {
    "duration": 19,
    "start_time": "2024-07-09T03:27:59.315Z"
   },
   {
    "duration": 26,
    "start_time": "2024-07-09T03:27:59.337Z"
   },
   {
    "duration": 10,
    "start_time": "2024-07-09T03:27:59.402Z"
   },
   {
    "duration": 297,
    "start_time": "2024-07-09T03:27:59.415Z"
   },
   {
    "duration": 4654,
    "start_time": "2024-07-09T03:27:59.716Z"
   },
   {
    "duration": 65,
    "start_time": "2024-07-09T03:28:04.374Z"
   },
   {
    "duration": 409,
    "start_time": "2024-07-09T03:28:04.442Z"
   },
   {
    "duration": 25,
    "start_time": "2024-07-09T03:28:04.854Z"
   },
   {
    "duration": 430,
    "start_time": "2024-07-09T03:28:04.881Z"
   },
   {
    "duration": 19,
    "start_time": "2024-07-09T03:28:05.314Z"
   },
   {
    "duration": 168,
    "start_time": "2024-07-09T03:28:05.337Z"
   },
   {
    "duration": 5180,
    "start_time": "2024-07-09T17:48:43.886Z"
   },
   {
    "duration": 41,
    "start_time": "2024-07-09T17:48:49.070Z"
   },
   {
    "duration": 34,
    "start_time": "2024-07-09T17:48:49.114Z"
   },
   {
    "duration": 10,
    "start_time": "2024-07-09T17:48:49.152Z"
   },
   {
    "duration": 75,
    "start_time": "2024-07-09T17:48:49.165Z"
   },
   {
    "duration": 17,
    "start_time": "2024-07-09T17:48:49.243Z"
   },
   {
    "duration": 6,
    "start_time": "2024-07-09T17:48:49.263Z"
   },
   {
    "duration": 5,
    "start_time": "2024-07-09T17:48:49.273Z"
   },
   {
    "duration": 60,
    "start_time": "2024-07-09T17:48:49.282Z"
   },
   {
    "duration": 14,
    "start_time": "2024-07-09T17:48:49.348Z"
   },
   {
    "duration": 18,
    "start_time": "2024-07-09T17:48:49.365Z"
   },
   {
    "duration": 52,
    "start_time": "2024-07-09T17:48:49.386Z"
   },
   {
    "duration": 9,
    "start_time": "2024-07-09T17:48:49.441Z"
   },
   {
    "duration": 7,
    "start_time": "2024-07-09T17:48:49.452Z"
   },
   {
    "duration": 10,
    "start_time": "2024-07-09T17:48:49.462Z"
   },
   {
    "duration": 65,
    "start_time": "2024-07-09T17:48:49.475Z"
   },
   {
    "duration": 16,
    "start_time": "2024-07-09T17:48:49.543Z"
   },
   {
    "duration": 14,
    "start_time": "2024-07-09T17:48:49.562Z"
   },
   {
    "duration": 9,
    "start_time": "2024-07-09T17:48:49.579Z"
   },
   {
    "duration": 260,
    "start_time": "2024-07-09T17:48:49.591Z"
   },
   {
    "duration": 4665,
    "start_time": "2024-07-09T17:48:49.854Z"
   },
   {
    "duration": 41,
    "start_time": "2024-07-09T17:48:54.529Z"
   },
   {
    "duration": 358,
    "start_time": "2024-07-09T17:48:54.574Z"
   },
   {
    "duration": 20,
    "start_time": "2024-07-09T17:48:54.935Z"
   },
   {
    "duration": 329,
    "start_time": "2024-07-09T17:48:54.958Z"
   },
   {
    "duration": 25,
    "start_time": "2024-07-09T17:48:55.290Z"
   },
   {
    "duration": 163,
    "start_time": "2024-07-09T17:48:55.332Z"
   },
   {
    "duration": 32,
    "start_time": "2024-07-09T17:48:55.502Z"
   },
   {
    "duration": 11,
    "start_time": "2024-07-09T17:48:55.537Z"
   },
   {
    "duration": 7,
    "start_time": "2024-07-09T17:48:55.551Z"
   },
   {
    "duration": 239,
    "start_time": "2024-07-09T17:48:55.560Z"
   },
   {
    "duration": 210,
    "start_time": "2024-07-09T17:48:55.803Z"
   },
   {
    "duration": 18,
    "start_time": "2024-07-09T17:48:56.016Z"
   },
   {
    "duration": 4,
    "start_time": "2024-07-09T17:48:56.037Z"
   },
   {
    "duration": 4,
    "start_time": "2024-07-09T17:48:56.044Z"
   },
   {
    "duration": 4,
    "start_time": "2024-07-09T17:48:56.052Z"
   },
   {
    "duration": 4,
    "start_time": "2024-07-09T17:48:56.059Z"
   },
   {
    "duration": 4,
    "start_time": "2024-07-09T17:48:56.066Z"
   },
   {
    "duration": 58,
    "start_time": "2024-07-09T17:48:56.074Z"
   },
   {
    "duration": 5,
    "start_time": "2024-07-09T17:48:56.135Z"
   },
   {
    "duration": 4,
    "start_time": "2024-07-09T17:48:56.143Z"
   },
   {
    "duration": 4,
    "start_time": "2024-07-09T17:48:56.150Z"
   },
   {
    "duration": 5,
    "start_time": "2024-07-09T17:48:56.157Z"
   },
   {
    "duration": 4,
    "start_time": "2024-07-09T17:48:56.165Z"
   },
   {
    "duration": 23,
    "start_time": "2024-07-09T20:03:02.986Z"
   },
   {
    "duration": 15,
    "start_time": "2024-07-09T20:12:35.047Z"
   },
   {
    "duration": 8,
    "start_time": "2024-07-10T00:30:42.954Z"
   },
   {
    "duration": 179,
    "start_time": "2024-07-10T00:32:40.891Z"
   },
   {
    "duration": 1068,
    "start_time": "2024-07-10T00:33:42.653Z"
   },
   {
    "duration": 167,
    "start_time": "2024-07-10T00:34:30.886Z"
   },
   {
    "duration": 237,
    "start_time": "2024-07-10T00:34:47.811Z"
   },
   {
    "duration": 272,
    "start_time": "2024-07-10T00:34:59.260Z"
   },
   {
    "duration": 194,
    "start_time": "2024-07-10T00:36:08.296Z"
   },
   {
    "duration": 170,
    "start_time": "2024-07-10T00:36:34.223Z"
   },
   {
    "duration": 170,
    "start_time": "2024-07-10T00:36:49.634Z"
   },
   {
    "duration": 156,
    "start_time": "2024-07-10T00:40:45.335Z"
   },
   {
    "duration": 171,
    "start_time": "2024-07-10T00:42:03.953Z"
   },
   {
    "duration": 153,
    "start_time": "2024-07-10T00:42:37.700Z"
   },
   {
    "duration": 160,
    "start_time": "2024-07-10T00:42:58.409Z"
   },
   {
    "duration": 3,
    "start_time": "2024-07-10T00:44:13.706Z"
   },
   {
    "duration": 4651,
    "start_time": "2024-07-10T00:54:15.965Z"
   },
   {
    "duration": 4414,
    "start_time": "2024-07-10T00:57:31.654Z"
   },
   {
    "duration": 236,
    "start_time": "2024-07-10T00:58:02.446Z"
   },
   {
    "duration": 3,
    "start_time": "2024-07-10T01:14:41.525Z"
   },
   {
    "duration": 4,
    "start_time": "2024-07-10T01:15:17.335Z"
   },
   {
    "duration": 19,
    "start_time": "2024-07-10T01:25:29.291Z"
   },
   {
    "duration": 11,
    "start_time": "2024-07-10T01:25:35.818Z"
   },
   {
    "duration": 7,
    "start_time": "2024-07-10T01:25:38.944Z"
   },
   {
    "duration": 184,
    "start_time": "2024-07-10T01:25:40.918Z"
   },
   {
    "duration": 10,
    "start_time": "2024-07-10T01:25:45.830Z"
   },
   {
    "duration": 11,
    "start_time": "2024-07-10T01:26:44.653Z"
   },
   {
    "duration": 1421,
    "start_time": "2024-07-10T01:30:18.792Z"
   },
   {
    "duration": 31,
    "start_time": "2024-07-10T01:30:20.217Z"
   },
   {
    "duration": 25,
    "start_time": "2024-07-10T01:30:20.251Z"
   },
   {
    "duration": 8,
    "start_time": "2024-07-10T01:30:20.280Z"
   },
   {
    "duration": 82,
    "start_time": "2024-07-10T01:30:20.291Z"
   },
   {
    "duration": 20,
    "start_time": "2024-07-10T01:30:20.376Z"
   },
   {
    "duration": 6,
    "start_time": "2024-07-10T01:30:20.399Z"
   },
   {
    "duration": 5,
    "start_time": "2024-07-10T01:30:20.429Z"
   },
   {
    "duration": 18,
    "start_time": "2024-07-10T01:30:20.437Z"
   },
   {
    "duration": 13,
    "start_time": "2024-07-10T01:30:20.461Z"
   },
   {
    "duration": 58,
    "start_time": "2024-07-10T01:30:20.477Z"
   },
   {
    "duration": 16,
    "start_time": "2024-07-10T01:30:20.539Z"
   },
   {
    "duration": 6,
    "start_time": "2024-07-10T01:30:20.558Z"
   },
   {
    "duration": 10,
    "start_time": "2024-07-10T01:30:20.567Z"
   },
   {
    "duration": 67,
    "start_time": "2024-07-10T01:30:20.580Z"
   },
   {
    "duration": 16,
    "start_time": "2024-07-10T01:30:20.650Z"
   },
   {
    "duration": 12,
    "start_time": "2024-07-10T01:30:20.669Z"
   },
   {
    "duration": 290,
    "start_time": "2024-07-10T01:30:20.684Z"
   },
   {
    "duration": 227,
    "start_time": "2024-07-10T01:30:20.978Z"
   },
   {
    "duration": 4639,
    "start_time": "2024-07-10T01:30:21.207Z"
   },
   {
    "duration": 33,
    "start_time": "2024-07-10T01:30:25.850Z"
   },
   {
    "duration": 302,
    "start_time": "2024-07-10T01:30:25.932Z"
   },
   {
    "duration": 177,
    "start_time": "2024-07-10T01:30:26.237Z"
   },
   {
    "duration": 334,
    "start_time": "2024-07-10T01:30:26.417Z"
   },
   {
    "duration": 159,
    "start_time": "2024-07-10T01:30:26.754Z"
   },
   {
    "duration": 169,
    "start_time": "2024-07-10T01:30:26.916Z"
   },
   {
    "duration": 17,
    "start_time": "2024-07-10T01:30:27.088Z"
   },
   {
    "duration": 28,
    "start_time": "2024-07-10T01:30:27.111Z"
   },
   {
    "duration": 7,
    "start_time": "2024-07-10T01:30:27.142Z"
   },
   {
    "duration": 218,
    "start_time": "2024-07-10T01:30:27.152Z"
   },
   {
    "duration": 202,
    "start_time": "2024-07-10T01:30:27.373Z"
   },
   {
    "duration": 12,
    "start_time": "2024-07-10T01:30:27.579Z"
   },
   {
    "duration": 160,
    "start_time": "2024-07-10T01:31:15.483Z"
   },
   {
    "duration": 172,
    "start_time": "2024-07-10T01:31:20.402Z"
   },
   {
    "duration": 165,
    "start_time": "2024-07-10T01:32:17.172Z"
   },
   {
    "duration": 176,
    "start_time": "2024-07-10T01:32:32.072Z"
   },
   {
    "duration": 334,
    "start_time": "2024-07-10T21:53:26.375Z"
   },
   {
    "duration": 22,
    "start_time": "2024-07-10T21:53:46.099Z"
   },
   {
    "duration": 25,
    "start_time": "2024-07-10T21:53:46.759Z"
   },
   {
    "duration": 24,
    "start_time": "2024-07-10T21:54:44.765Z"
   },
   {
    "duration": 5132,
    "start_time": "2024-07-10T21:54:53.788Z"
   },
   {
    "duration": 40,
    "start_time": "2024-07-10T21:54:58.924Z"
   },
   {
    "duration": 24,
    "start_time": "2024-07-10T21:54:58.967Z"
   },
   {
    "duration": 20,
    "start_time": "2024-07-10T21:54:58.994Z"
   },
   {
    "duration": 54,
    "start_time": "2024-07-10T21:54:59.018Z"
   },
   {
    "duration": 44,
    "start_time": "2024-07-10T21:54:59.074Z"
   },
   {
    "duration": 6,
    "start_time": "2024-07-10T21:54:59.121Z"
   },
   {
    "duration": 7,
    "start_time": "2024-07-10T21:54:59.130Z"
   },
   {
    "duration": 17,
    "start_time": "2024-07-10T21:54:59.141Z"
   },
   {
    "duration": 55,
    "start_time": "2024-07-10T21:54:59.162Z"
   },
   {
    "duration": 18,
    "start_time": "2024-07-10T21:54:59.220Z"
   },
   {
    "duration": 16,
    "start_time": "2024-07-10T21:54:59.241Z"
   },
   {
    "duration": 47,
    "start_time": "2024-07-10T21:54:59.260Z"
   },
   {
    "duration": 9,
    "start_time": "2024-07-10T21:54:59.314Z"
   },
   {
    "duration": 26,
    "start_time": "2024-07-10T21:54:59.327Z"
   },
   {
    "duration": 51,
    "start_time": "2024-07-10T21:54:59.356Z"
   },
   {
    "duration": 13,
    "start_time": "2024-07-10T21:54:59.410Z"
   },
   {
    "duration": 215,
    "start_time": "2024-07-10T21:54:59.426Z"
   },
   {
    "duration": 220,
    "start_time": "2024-07-10T21:54:59.644Z"
   },
   {
    "duration": 4597,
    "start_time": "2024-07-10T21:54:59.867Z"
   },
   {
    "duration": 46,
    "start_time": "2024-07-10T21:55:04.467Z"
   },
   {
    "duration": 368,
    "start_time": "2024-07-10T21:55:04.516Z"
   },
   {
    "duration": 177,
    "start_time": "2024-07-10T21:55:04.887Z"
   },
   {
    "duration": 319,
    "start_time": "2024-07-10T21:55:05.067Z"
   },
   {
    "duration": 176,
    "start_time": "2024-07-10T21:55:05.389Z"
   },
   {
    "duration": 159,
    "start_time": "2024-07-10T21:55:05.568Z"
   },
   {
    "duration": 18,
    "start_time": "2024-07-10T21:55:05.733Z"
   },
   {
    "duration": 11,
    "start_time": "2024-07-10T21:55:05.754Z"
   },
   {
    "duration": 7,
    "start_time": "2024-07-10T21:55:05.768Z"
   },
   {
    "duration": 234,
    "start_time": "2024-07-10T21:55:05.777Z"
   },
   {
    "duration": 202,
    "start_time": "2024-07-10T21:55:06.014Z"
   },
   {
    "duration": 11,
    "start_time": "2024-07-10T21:55:06.219Z"
   },
   {
    "duration": 509,
    "start_time": "2024-07-10T22:06:01.943Z"
   },
   {
    "duration": 187,
    "start_time": "2024-07-10T22:06:18.789Z"
   },
   {
    "duration": 373,
    "start_time": "2024-07-10T22:07:51.367Z"
   },
   {
    "duration": 378,
    "start_time": "2024-07-10T22:09:01.476Z"
   },
   {
    "duration": 42,
    "start_time": "2024-07-10T22:10:19.077Z"
   },
   {
    "duration": 371,
    "start_time": "2024-07-10T22:10:26.776Z"
   },
   {
    "duration": 381,
    "start_time": "2024-07-10T22:10:50.313Z"
   },
   {
    "duration": 198,
    "start_time": "2024-07-10T22:11:59.354Z"
   },
   {
    "duration": 196,
    "start_time": "2024-07-10T22:12:03.410Z"
   },
   {
    "duration": 467,
    "start_time": "2024-07-10T22:12:46.692Z"
   },
   {
    "duration": 7,
    "start_time": "2024-07-10T23:02:21.704Z"
   },
   {
    "duration": 1373,
    "start_time": "2024-07-11T00:06:04.933Z"
   },
   {
    "duration": 28,
    "start_time": "2024-07-11T00:06:06.309Z"
   },
   {
    "duration": 24,
    "start_time": "2024-07-11T00:06:06.340Z"
   },
   {
    "duration": 37,
    "start_time": "2024-07-11T00:06:06.369Z"
   },
   {
    "duration": 51,
    "start_time": "2024-07-11T00:06:06.408Z"
   },
   {
    "duration": 16,
    "start_time": "2024-07-11T00:06:06.463Z"
   },
   {
    "duration": 30,
    "start_time": "2024-07-11T00:06:06.481Z"
   },
   {
    "duration": 5,
    "start_time": "2024-07-11T00:06:06.514Z"
   },
   {
    "duration": 18,
    "start_time": "2024-07-11T00:06:06.523Z"
   },
   {
    "duration": 14,
    "start_time": "2024-07-11T00:06:06.546Z"
   },
   {
    "duration": 58,
    "start_time": "2024-07-11T00:06:06.562Z"
   },
   {
    "duration": 17,
    "start_time": "2024-07-11T00:06:06.624Z"
   },
   {
    "duration": 7,
    "start_time": "2024-07-11T00:06:06.644Z"
   },
   {
    "duration": 52,
    "start_time": "2024-07-11T00:06:06.654Z"
   },
   {
    "duration": 26,
    "start_time": "2024-07-11T00:06:06.709Z"
   },
   {
    "duration": 15,
    "start_time": "2024-07-11T00:06:06.737Z"
   },
   {
    "duration": 13,
    "start_time": "2024-07-11T00:06:06.756Z"
   },
   {
    "duration": 308,
    "start_time": "2024-07-11T00:06:06.772Z"
   },
   {
    "duration": 218,
    "start_time": "2024-07-11T00:06:07.083Z"
   },
   {
    "duration": 4595,
    "start_time": "2024-07-11T00:06:07.307Z"
   },
   {
    "duration": 38,
    "start_time": "2024-07-11T00:06:11.907Z"
   },
   {
    "duration": 363,
    "start_time": "2024-07-11T00:06:11.948Z"
   },
   {
    "duration": 179,
    "start_time": "2024-07-11T00:06:12.314Z"
   },
   {
    "duration": 311,
    "start_time": "2024-07-11T00:06:12.505Z"
   },
   {
    "duration": 161,
    "start_time": "2024-07-11T00:06:12.821Z"
   },
   {
    "duration": 164,
    "start_time": "2024-07-11T00:06:12.984Z"
   },
   {
    "duration": 19,
    "start_time": "2024-07-11T00:06:13.150Z"
   },
   {
    "duration": 409,
    "start_time": "2024-07-11T00:06:13.175Z"
   },
   {
    "duration": 7,
    "start_time": "2024-07-11T00:06:13.586Z"
   },
   {
    "duration": 199,
    "start_time": "2024-07-11T00:06:13.607Z"
   },
   {
    "duration": 197,
    "start_time": "2024-07-11T00:06:13.809Z"
   },
   {
    "duration": 10,
    "start_time": "2024-07-11T00:06:14.009Z"
   },
   {
    "duration": 26,
    "start_time": "2024-07-11T14:25:42.893Z"
   },
   {
    "duration": 15,
    "start_time": "2024-07-11T14:25:52.332Z"
   },
   {
    "duration": 20,
    "start_time": "2024-07-11T14:25:56.450Z"
   },
   {
    "duration": 1390,
    "start_time": "2024-07-11T14:27:18.775Z"
   },
   {
    "duration": 25,
    "start_time": "2024-07-11T14:27:20.169Z"
   },
   {
    "duration": 24,
    "start_time": "2024-07-11T14:27:20.205Z"
   },
   {
    "duration": 14,
    "start_time": "2024-07-11T14:27:20.233Z"
   },
   {
    "duration": 81,
    "start_time": "2024-07-11T14:27:20.249Z"
   },
   {
    "duration": 19,
    "start_time": "2024-07-11T14:27:20.336Z"
   },
   {
    "duration": 7,
    "start_time": "2024-07-11T14:27:20.357Z"
   },
   {
    "duration": 5,
    "start_time": "2024-07-11T14:27:20.367Z"
   },
   {
    "duration": 48,
    "start_time": "2024-07-11T14:27:20.374Z"
   },
   {
    "duration": 14,
    "start_time": "2024-07-11T14:27:20.429Z"
   },
   {
    "duration": 19,
    "start_time": "2024-07-11T14:27:20.445Z"
   },
   {
    "duration": 55,
    "start_time": "2024-07-11T14:27:20.467Z"
   },
   {
    "duration": 7,
    "start_time": "2024-07-11T14:27:20.524Z"
   },
   {
    "duration": 11,
    "start_time": "2024-07-11T14:27:20.535Z"
   },
   {
    "duration": 69,
    "start_time": "2024-07-11T14:27:20.550Z"
   },
   {
    "duration": 17,
    "start_time": "2024-07-11T14:27:20.621Z"
   },
   {
    "duration": 13,
    "start_time": "2024-07-11T14:27:20.640Z"
   },
   {
    "duration": 287,
    "start_time": "2024-07-11T14:27:20.656Z"
   },
   {
    "duration": 211,
    "start_time": "2024-07-11T14:27:20.946Z"
   },
   {
    "duration": 4530,
    "start_time": "2024-07-11T14:27:21.160Z"
   },
   {
    "duration": 41,
    "start_time": "2024-07-11T14:27:25.693Z"
   },
   {
    "duration": 368,
    "start_time": "2024-07-11T14:27:25.738Z"
   },
   {
    "duration": 178,
    "start_time": "2024-07-11T14:27:26.108Z"
   },
   {
    "duration": 317,
    "start_time": "2024-07-11T14:27:26.289Z"
   },
   {
    "duration": 166,
    "start_time": "2024-07-11T14:27:26.609Z"
   },
   {
    "duration": 161,
    "start_time": "2024-07-11T14:27:26.777Z"
   },
   {
    "duration": 18,
    "start_time": "2024-07-11T14:27:26.941Z"
   },
   {
    "duration": 408,
    "start_time": "2024-07-11T14:27:26.966Z"
   },
   {
    "duration": 7,
    "start_time": "2024-07-11T14:27:27.377Z"
   },
   {
    "duration": 210,
    "start_time": "2024-07-11T14:27:27.387Z"
   },
   {
    "duration": 195,
    "start_time": "2024-07-11T14:27:27.607Z"
   },
   {
    "duration": 11,
    "start_time": "2024-07-11T14:27:27.807Z"
   }
  ],
  "kernelspec": {
   "display_name": "Python 3 (ipykernel)",
   "language": "python",
   "name": "python3"
  },
  "language_info": {
   "codemirror_mode": {
    "name": "ipython",
    "version": 3
   },
   "file_extension": ".py",
   "mimetype": "text/x-python",
   "name": "python",
   "nbconvert_exporter": "python",
   "pygments_lexer": "ipython3",
   "version": "3.9.19"
  },
  "toc": {
   "base_numbering": 1,
   "nav_menu": {},
   "number_sections": true,
   "sideBar": true,
   "skip_h1_title": true,
   "title_cell": "Table of Contents",
   "title_sidebar": "Contents",
   "toc_cell": false,
   "toc_position": {
    "height": "calc(100% - 180px)",
    "left": "10px",
    "top": "150px",
    "width": "291.2px"
   },
   "toc_section_display": true,
   "toc_window_display": false
  }
 },
 "nbformat": 4,
 "nbformat_minor": 2
}
